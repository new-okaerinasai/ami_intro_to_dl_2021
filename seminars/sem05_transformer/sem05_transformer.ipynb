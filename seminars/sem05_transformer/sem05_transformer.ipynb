{
  "nbformat": 4,
  "nbformat_minor": 0,
  "metadata": {
    "kernelspec": {
      "name": "python3",
      "display_name": "Python 3"
    },
    "colab": {
      "name": "sem05_transformer.ipynb",
      "provenance": [],
      "collapsed_sections": []
    },
    "language_info": {
      "name": "python"
    },
    "accelerator": "GPU"
  },
  "cells": [
    {
      "cell_type": "code",
      "metadata": {
        "id": "jTBs4xwAFueM"
      },
      "source": [
        "from typing import NamedTuple, Tuple, Dict, List, Union\n",
        "import sys\n",
        "import math\n",
        "import torch\n",
        "import random\n",
        "import pandas as pd\n",
        "from tqdm import tqdm\n",
        "\n",
        "\n",
        "DEVICE = \"cuda:0\" if torch.cuda.is_available() else \"cpu\""
      ],
      "execution_count": 1,
      "outputs": []
    },
    {
      "cell_type": "markdown",
      "metadata": {
        "id": "-a3rDCoJFueP"
      },
      "source": [
        "<center><img src=\"media/rnn-transformer-meme.png\" style=\"width: 500px;\"/></center>"
      ]
    },
    {
      "cell_type": "markdown",
      "metadata": {
        "id": "DsFuxlQrFueQ"
      },
      "source": [
        "## Что же такое этот Transformer?\n",
        "Transformer - модель полностью основанная только на Attention механизме.\n",
        "<table>\n",
        "    <td> <img src=\"media/transformer-architecture.png\" style=\"width: 500px;\"/> </td>\n",
        "    <td> <img src=\"media/dot-product-multi-head.png\" style=\"width: 600px;\"/> </td>\n",
        "</table>\n",
        "\n",
        "В качестве Norm используют [LayerNorm by Hinton](https://arxiv.org/abs/1607.06450), так как он значительно лучше работает для NLP задач и не зависит от размера Batch, благодаря чему можно делать онлайн-обучение. Также для LayerNorm нет необходимости делать скользящее средней по expectation и variance.\n",
        "Теперь порисуем где-нибудь модель и напишем псевдокод для каждой части."
      ]
    },
    {
      "cell_type": "markdown",
      "metadata": {
        "id": "9Yr5jMm8FueR"
      },
      "source": [
        "## Преимущества Transformer\n",
        "<center><img src=\"media/lstm-schmidhuber-meme.jpg\" style=\"width: 500px;\"/></center>\n",
        "\n",
        "1. Быстрее.\n",
        "2. Проще распаралелить.\n",
        "3. Лучше работает с длинными последовательностями (так как расстояние от любого другого токена равно `O(1)`, в то время как у RNN `O(n)`).\n",
        "4. Интерпретируемость."
      ]
    },
    {
      "cell_type": "markdown",
      "metadata": {
        "id": "SAKu6LziFueS"
      },
      "source": [
        "## Напишем свой MultiHead Self-Attention"
      ]
    },
    {
      "cell_type": "code",
      "metadata": {
        "id": "yKpeD-PpFueS"
      },
      "source": [
        "class MultiHeadAttentionOutput(NamedTuple):\n",
        "    \"\"\"Result of MultiHeadAttention Module call.\"\"\"\n",
        "\n",
        "    values: torch.Tensor\n",
        "    attention: torch.Tensor\n",
        "\n",
        "\n",
        "class MultiHeadAttention(torch.nn.Module):\n",
        "    \"\"\"\n",
        "    Compute Multi-Head Attention like in \"Attention Is All You Need\" paper.\n",
        "    For simplicity assume that value dimension equals query and key dimension.\n",
        "\n",
        "    Parameters\n",
        "    ----------\n",
        "    num_heads : `int`, required\n",
        "        Number of heads for Self-Attention.\n",
        "    hidden_size : `int`, required\n",
        "        Hidden size for projection in Self-Attention.\n",
        "    bias : `bool`, optional (default = `True`)\n",
        "        Whether to include bias for projection or not.\n",
        "    dropout : `float`, optional (default = `0.1`)\n",
        "        Dropout probability for Self-Attention after softmax.\n",
        "    output_size : `int`, optional (default = `None`)\n",
        "        Size for output projection. If None hidden size is used.\n",
        "    attention_fill_value : `float`, optional (default = `1e-32`)\n",
        "        Fill value for attention before softmax if mask is passed if forward.\n",
        "    \"\"\"\n",
        "\n",
        "    def __init__(\n",
        "        self,\n",
        "        num_heads: int,\n",
        "        hidden_size: int,\n",
        "        bias: bool = True,\n",
        "        dropout: float = 0.1,\n",
        "        output_size: int = None,\n",
        "        attention_fill_value: float = 1e-32\n",
        "    ) -> None:\n",
        "        super().__init__()\n",
        "        assert hidden_size % num_heads == 0\n",
        "        self.attn_size = hidden_size // num_heads\n",
        "        self.num_heads = num_heads\n",
        "        self.projections = torch.nn.ModuleDict({\n",
        "            \"query\": torch.nn.Linear(hidden_size, hidden_size, bias=bias),\n",
        "            \"key\": torch.nn.Linear(hidden_size, hidden_size, bias=bias),\n",
        "            \"value\": torch.nn.Linear(hidden_size, hidden_size, bias=bias)\n",
        "        })\n",
        "        self.output = torch.nn.Linear(hidden_size, output_size or hidden_size)\n",
        "        self.attention_fill_value = attention_fill_value\n",
        "        if dropout:\n",
        "            self.dropout = torch.nn.Dropout(p=dropout)\n",
        "        else:\n",
        "            self.dropout = lambda x: x\n",
        "\n",
        "    def forward(\n",
        "        self,\n",
        "        query: torch.Tensor,\n",
        "        key: torch.Tensor,\n",
        "        value: torch.Tensor,\n",
        "        mask: torch.Tensor = None\n",
        "    ) -> MultiHeadAttentionOutput:\n",
        "        # query ~ (batch size, seq length, hidden size)\n",
        "        # key ~ (batch size, seq length, hidden size)\n",
        "        # value ~ (batch size, seq length, hidden size)\n",
        "        # mask ~ (batch size, seq length)\n",
        "        # TODO: From here\n",
        "        # Because we decided to keep the model simple\n",
        "        # then query.size = key.size = value.size\n",
        "        original_size = value.size()\n",
        "        # 1) Linear projections in batch from\n",
        "        # (batch size, seq length, hidden size) => (batch size, num heads, seq length, attn size).\n",
        "        query = self.multi_head_rearrange(self.projections[\"query\"](query))\n",
        "        key = self.multi_head_rearrange(self.projections[\"key\"](key))\n",
        "        value = self.multi_head_rearrange(self.projections[\"value\"](value))\n",
        "        # 2) Apply self-attention.\n",
        "        # output ~ (batch size, num heads, seq length, attn size)\n",
        "        # attn ~ (batch size, num heads, seq length, seq length)\n",
        "        output, attn = self.self_attention(query, key, value, mask=mask)\n",
        "        # 3) Rearrange back to normal.\n",
        "        # output ~ (batch size, seq length, hidden size)\n",
        "        output = (\n",
        "            output\n",
        "            .transpose(1, 2).contiguous()\n",
        "            .view(*original_size)\n",
        "        )\n",
        "        return MultiHeadAttentionOutput(self.output(output), attn)\n",
        "\n",
        "    def self_attention(\n",
        "        self,\n",
        "        query: torch.Tensor,\n",
        "        key: torch.Tensor,\n",
        "        value: torch.Tensor,\n",
        "        mask: torch.Tensor = None\n",
        "    ) -> Tuple[torch.Tensor, torch.Tensor]:\n",
        "        # query ~ (batch size, num heads, seq length, attn size)\n",
        "        # key ~ (batch size, num heads, seq length, attn size)\n",
        "        # value ~ (batch size, num heads, seq length, attn size)\n",
        "        # mask ~ (batch size, seq length)\n",
        "        # query @ key ~ (batch size, num heads, seq length, seq length)\n",
        "        scores = torch.matmul(query, key.transpose(-2, -1)) / math.sqrt(self.attn_size)\n",
        "        if mask is not None:\n",
        "            # Add dimensions for masked_fill to work\n",
        "            while mask.dim() < scores.dim():\n",
        "                mask = mask.unsqueeze(1)\n",
        "            scores = scores.masked_fill(mask.eq(0), self.attention_fill_value)\n",
        "        probs = torch.softmax(scores, dim=-1)\n",
        "        probs = self.dropout(probs)\n",
        "        # probs @ value ~ (batch size, num heads, seq length, attn size)\n",
        "        return torch.matmul(probs, value), probs\n",
        "\n",
        "    def multi_head_rearrange(self, tensor: torch.Tensor) -> torch.Tensor:\n",
        "        return (\n",
        "            tensor\n",
        "            .view(tensor.size(0), -1, self.num_heads, self.attn_size)\n",
        "            .transpose(1, 2)\n",
        "        )"
      ],
      "execution_count": 2,
      "outputs": []
    },
    {
      "cell_type": "markdown",
      "metadata": {
        "id": "jTfg-00DFueS"
      },
      "source": [
        "Зафиксировать seed и посмотрим работает ли))"
      ]
    },
    {
      "cell_type": "code",
      "metadata": {
        "colab": {
          "base_uri": "https://localhost:8080/"
        },
        "id": "_ybOlcddFueT",
        "outputId": "2dd1581f-57ea-4de6-c3a1-ff153f164608"
      },
      "source": [
        "tensor = torch.randn(10, 15, 256)\n",
        "module = MultiHeadAttention(num_heads=4, hidden_size=256, dropout=0.0, bias=False)\n",
        "module(tensor, tensor, tensor).values.size()"
      ],
      "execution_count": 3,
      "outputs": [
        {
          "output_type": "execute_result",
          "data": {
            "text/plain": [
              "torch.Size([10, 15, 256])"
            ]
          },
          "metadata": {},
          "execution_count": 3
        }
      ]
    },
    {
      "cell_type": "markdown",
      "metadata": {
        "id": "xkxW2IVQFueU"
      },
      "source": [
        "Ну а теперь проверим с PyTorch MultiheadAttention"
      ]
    },
    {
      "cell_type": "code",
      "metadata": {
        "id": "VU8cYj19FueU"
      },
      "source": [
        "from torch.nn.modules.activation import MultiheadAttention as MultiheadAttentionTorch\n",
        "# Instantiate Module\n",
        "torch_attention = MultiheadAttentionTorch(embed_dim=256, num_heads=4, dropout=0.0, bias=False)\n",
        "# Change parameters\n",
        "torch_attention._qkv_same_embed_dim = False\n",
        "# Projections\n",
        "torch_attention.q_proj_weight = module.projections[\"query\"].weight\n",
        "torch_attention.k_proj_weight = module.projections[\"key\"].weight\n",
        "torch_attention.v_proj_weight = module.projections[\"value\"].weight\n",
        "torch_attention.out_proj = module.output\n",
        "# Permute tensor because PyTorch MultiheadAttention\n",
        "# accepts (sequence length, batch size, embedding size)\n",
        "torch_attn_tensor = tensor.permute(1, 0, 2).contiguous()\n",
        "assert torch.allclose(\n",
        "    torch_attention(torch_attn_tensor, torch_attn_tensor, torch_attn_tensor)[0].permute(1, 0, 2),\n",
        "    module(tensor, tensor, tensor).values\n",
        ")"
      ],
      "execution_count": 4,
      "outputs": []
    },
    {
      "cell_type": "markdown",
      "metadata": {
        "id": "CctyvU-3FueU"
      },
      "source": [
        "Сделать модель на основе Transformer в PyTorch."
      ]
    },
    {
      "cell_type": "markdown",
      "metadata": {
        "id": "XMTRiA4GFueW"
      },
      "source": [
        "Загрузим данные для NMT French-English"
      ]
    },
    {
      "cell_type": "code",
      "metadata": {
        "colab": {
          "base_uri": "https://localhost:8080/"
        },
        "id": "8K3ZMGrhHoH5",
        "outputId": "111bf25a-4a45-4050-d57c-a3df7b8283da"
      },
      "source": [
        "! ls"
      ],
      "execution_count": 11,
      "outputs": [
        {
          "output_type": "stream",
          "name": "stdout",
          "text": [
            "_about.txt  data  fra.txt  sample_data\n"
          ]
        }
      ]
    },
    {
      "cell_type": "code",
      "metadata": {
        "colab": {
          "base_uri": "https://localhost:8080/"
        },
        "id": "FlA7Yl3xFueW",
        "outputId": "48072000-0f7d-40f8-ec0b-0c4048436ce1"
      },
      "source": [
        "# Create data dir if not exists\n",
        "!mkdir -p data\n",
        "# Load dataset\n",
        "!wget https://www.manythings.org/anki/fra-eng.zip -O data/fra-eng.zip\n",
        "# Unarchive dataset\n",
        "! unzip -q data/fra-eng.zip\n",
        "# Rename for build_dataset to work\n",
        "!mv fra.txt eng-fra.txt\n",
        "!mv eng-fra.txt data/eng-fra.txt"
      ],
      "execution_count": 12,
      "outputs": [
        {
          "output_type": "stream",
          "name": "stdout",
          "text": [
            "--2021-12-06 05:02:35--  https://www.manythings.org/anki/fra-eng.zip\n",
            "Resolving www.manythings.org (www.manythings.org)... 172.67.186.54, 104.21.92.44, 2606:4700:3030::6815:5c2c, ...\n",
            "Connecting to www.manythings.org (www.manythings.org)|172.67.186.54|:443... connected.\n",
            "HTTP request sent, awaiting response... 200 OK\n",
            "Length: 6515217 (6.2M) [application/zip]\n",
            "Saving to: ‘data/fra-eng.zip’\n",
            "\n",
            "data/fra-eng.zip    100%[===================>]   6.21M  8.14MB/s    in 0.8s    \n",
            "\n",
            "2021-12-06 05:02:36 (8.14 MB/s) - ‘data/fra-eng.zip’ saved [6515217/6515217]\n",
            "\n",
            "replace _about.txt? [y]es, [n]o, [A]ll, [N]one, [r]ename: n\n",
            "replace fra.txt? [y]es, [n]o, [A]ll, [N]one, [r]ename: n\n"
          ]
        }
      ]
    },
    {
      "cell_type": "markdown",
      "metadata": {
        "id": "ZjT2e4VmFueW"
      },
      "source": [
        "Ниже код для предобработки данных. Не обращайте на него внимание, он взят из [туториала PyTorch](https://pytorch.org/tutorials/intermediate/seq2seq_translation_tutorial.html)."
      ]
    },
    {
      "cell_type": "code",
      "metadata": {
        "id": "zGwBckeWIQzS"
      },
      "source": [
        ""
      ],
      "execution_count": 17,
      "outputs": []
    },
    {
      "cell_type": "code",
      "metadata": {
        "id": "478JTh-PH4-F"
      },
      "source": [
        "import re\n",
        "import random\n",
        "import unicodedata\n",
        "\n",
        "\n",
        "SOS_token = 0\n",
        "EOS_token = 1\n",
        "\n",
        "\n",
        "class Lang:\n",
        "    def __init__(self, name):\n",
        "        self.name = name\n",
        "        self.word2index = {}\n",
        "        self.word2count = {}\n",
        "        self.index2word = {0: \"SOS\", 1: \"EOS\"}\n",
        "        self.n_words = 2  # Count SOS and EOS\n",
        "\n",
        "    def add_sentence(self, sentence):\n",
        "        for word in sentence.split(' '):\n",
        "            self.add_word(word)\n",
        "\n",
        "    def add_word(self, word):\n",
        "        if word not in self.word2index:\n",
        "            self.word2index[word] = self.n_words\n",
        "            self.word2count[word] = 1\n",
        "            self.index2word[self.n_words] = word\n",
        "            self.n_words += 1\n",
        "        else:\n",
        "            self.word2count[word] += 1\n",
        "\n",
        "\n",
        "# Turn a Unicode string to plain ASCII, thanks to\n",
        "# https://stackoverflow.com/a/518232/2809427\n",
        "def unicode_to_ascii(s):\n",
        "    return ''.join(\n",
        "        c for c in unicodedata.normalize('NFD', s)\n",
        "        if unicodedata.category(c) != 'Mn'\n",
        "    )\n",
        "\n",
        "# Lowercase, trim, and remove non-letter characters\n",
        "\n",
        "\n",
        "def normalize_string(s):\n",
        "    s = unicode_to_ascii(s.lower().strip())\n",
        "    s = re.sub(r\"([.!?])\", r\" \\1\", s)\n",
        "    s = re.sub(r\"[^a-zA-Z.!?]+\", r\" \", s)\n",
        "    return s\n",
        "\n",
        "\n",
        "def read_langs(lang1, lang2, reverse=False):\n",
        "    print(\"Reading lines...\")\n",
        "\n",
        "    # Read the file and split into lines\n",
        "    lines = open('data/%s-%s.txt' % (lang1, lang2), encoding='utf-8').\\\n",
        "        read().strip().split('\\n')\n",
        "\n",
        "    # Split every line into pairs and normalize\n",
        "    pairs = [[normalize_string(s) for s in l.rstrip().split('\\t')[:2]] for l in lines]\n",
        "\n",
        "    # Reverse pairs, make Lang instances\n",
        "    if reverse:\n",
        "        pairs = [list(reversed(p)) for p in pairs]\n",
        "        input_lang = Lang(lang2)\n",
        "        output_lang = Lang(lang1)\n",
        "    else:\n",
        "        input_lang = Lang(lang1)\n",
        "        output_lang = Lang(lang2)\n",
        "\n",
        "    return input_lang, output_lang, pairs\n",
        "\n",
        "\n",
        "MAX_LENGTH = 10\n",
        "\n",
        "eng_prefixes = (\n",
        "    \"i am \", \"i m \",\n",
        "    \"he is\", \"he s \",\n",
        "    \"she is\", \"she s \",\n",
        "    \"you are\", \"you re \",\n",
        "    \"we are\", \"we re \",\n",
        "    \"they are\", \"they re \"\n",
        ")\n",
        "\n",
        "\n",
        "def filter_pair(p):\n",
        "    return (\n",
        "        len(p[0].split(' ')) < MAX_LENGTH\n",
        "        and len(p[1].split(' ')) < MAX_LENGTH\n",
        "        and p[1].startswith(eng_prefixes)\n",
        "    )\n",
        "\n",
        "\n",
        "def filter_pairs(pairs):\n",
        "    return [pair for pair in pairs if filter_pair(pair)]\n",
        "\n",
        "\n",
        "def prepare_data(lang1, lang2, reverse=False):\n",
        "    input_lang, output_lang, pairs = read_langs(lang1, lang2, reverse)\n",
        "    print(\"Read %s sentence pairs\" % len(pairs))\n",
        "    pairs = filter_pairs(pairs)\n",
        "    print(\"Trimmed to %s sentence pairs\" % len(pairs))\n",
        "    print(\"Counting words...\")\n",
        "    for pair in pairs:\n",
        "        input_lang.add_sentence(pair[0])\n",
        "        output_lang.add_sentence(pair[1])\n",
        "    print(\"Counted words:\")\n",
        "    print(input_lang.name, input_lang.n_words)\n",
        "    print(output_lang.name, output_lang.n_words)\n",
        "    return input_lang, output_lang, pairs\n",
        "\n",
        "\n",
        "def build_dataset():\n",
        "    # Prepare data\n",
        "    input_lang, output_lang, pairs = prepare_data('eng', 'fra', True)\n",
        "    # Get random pairs\n",
        "    random.seed(13)\n",
        "    random.shuffle(pairs)\n",
        "    train_size = int(len(pairs) * 0.8)\n",
        "    train_pairs = pairs[:train_size]\n",
        "    test_pairs = pairs[train_size:]\n",
        "    # Save datasets\n",
        "    with open('data/train.txt', 'w', encoding='utf-8') as file:\n",
        "        file.write('\\n'.join(['\\t'.join(pair) for pair in train_pairs]))\n",
        "    with open('data/test.txt', 'w', encoding='utf-8') as file:\n",
        "        file.write('\\n'.join(['\\t'.join(pair) for pair in test_pairs]))"
      ],
      "execution_count": 18,
      "outputs": []
    },
    {
      "cell_type": "code",
      "metadata": {
        "colab": {
          "base_uri": "https://localhost:8080/"
        },
        "id": "s-Eu9vv7FueW",
        "outputId": "bbfbcdd1-3643-43b0-e563-c96f1c8dc02b"
      },
      "source": [
        "build_dataset()"
      ],
      "execution_count": 20,
      "outputs": [
        {
          "output_type": "stream",
          "name": "stdout",
          "text": [
            "Reading lines...\n",
            "Read 191954 sentence pairs\n",
            "Trimmed to 14083 sentence pairs\n",
            "Counting words...\n",
            "Counted words:\n",
            "fra 5054\n",
            "eng 3260\n"
          ]
        }
      ]
    },
    {
      "cell_type": "markdown",
      "metadata": {
        "id": "lGz6gsoWFueW"
      },
      "source": [
        "### Подготовим LabelEncoder и Dataset в стилье PyTorch"
      ]
    },
    {
      "cell_type": "code",
      "metadata": {
        "id": "sIV91F0jFueX"
      },
      "source": [
        "from collections import defaultdict\n",
        "from torch.utils.data import Dataset, DataLoader\n",
        "\n",
        "\n",
        "SOS = \"<start>\"\n",
        "EOS = \"<end>\"\n",
        "PAD = \"<pad>\"\n",
        "\n",
        "\n",
        "class Vocabulary:\n",
        "    \"\"\"\n",
        "    Vocabulry construct label encoding (token -> index)\n",
        "    and labeld decoding (index -> token) based on datasets.\n",
        "    \"\"\"\n",
        "\n",
        "    def __init__(self, **datasets) -> None:\n",
        "        self._word2index = defaultdict(dict)\n",
        "        self._index2word = defaultdict(dict)\n",
        "        self._setup_indexers()\n",
        "        for name, dataset in datasets.items():\n",
        "            self._iterate_dataset(name, dataset)\n",
        "\n",
        "    @property\n",
        "    def word2index(self):\n",
        "        return self._word2index\n",
        "\n",
        "    @property\n",
        "    def index2word(self):\n",
        "        return self._index2word\n",
        "\n",
        "    def get_size(self, field: str) -> int:\n",
        "        return len(self._word2index[field])\n",
        "\n",
        "    def _iterate_dataset(self, name: str, dataset: Dataset) -> None:\n",
        "        for sample in tqdm(dataset, desc=f\"Building vocab from {name}\", total=len(dataset)):\n",
        "            self._iterate_sample(sample)\n",
        "\n",
        "    def _iterate_sample(self, sample: Dict[str, List[str]]) -> None:\n",
        "        for field, sentence in sample.items():\n",
        "            for word in filter(\n",
        "                lambda x: x not in self._word2index[field], sentence\n",
        "            ):\n",
        "                index = len(self._word2index[field])\n",
        "                self._word2index[field][word] = index\n",
        "                self._index2word[field][index] = word\n",
        "\n",
        "    def _setup_indexers(self) -> None:\n",
        "        for token_type in [PAD, SOS, EOS]:\n",
        "            index = len(self._word2index[\"source\"])\n",
        "            self._word2index[\"source\"][token_type] = index\n",
        "            self._word2index[\"target\"][token_type] = index\n",
        "            self._index2word[\"source\"][index] = token_type\n",
        "            self._index2word[\"target\"][index] = token_type\n",
        "\n",
        "\n",
        "class NMTDataset(Dataset):\n",
        "    \"\"\"\n",
        "    PyTorch Dataset for NMT task.\n",
        "\n",
        "    Parameters\n",
        "    ----------\n",
        "    data_path : `str`, required\n",
        "        Path to dataset.\n",
        "    \"\"\"\n",
        "\n",
        "    def __init__(self, data_path: str) -> None:\n",
        "        self._dataset = []\n",
        "        self._indexer = None\n",
        "        with open(data_path, \"r\", encoding=\"utf-8\") as file:\n",
        "            for sample in tqdm(file, desc=f\"Reading dataset at {data_path} in memory\"):\n",
        "                source, target = sample.rstrip().split('\\t')\n",
        "                self._dataset.append({\n",
        "                    \"source\": source.split() + [EOS],\n",
        "                    \"target\": [SOS] + target.split() + [EOS],\n",
        "                })\n",
        "\n",
        "    def __getitem__(self, idx: int) -> Dict[str, List[str]]:\n",
        "        return {\n",
        "            k: [self._indexer[k][x] if self._indexer else x for x in v]\n",
        "            for k, v in self._dataset[idx].items()\n",
        "        }\n",
        "\n",
        "    def __len__(self) -> int:\n",
        "        return len(self._dataset)\n",
        "\n",
        "    def index_with(self, vocab: Vocabulary) -> None:\n",
        "        self._indexer = vocab.word2index"
      ],
      "execution_count": null,
      "outputs": []
    },
    {
      "cell_type": "code",
      "metadata": {
        "id": "TRf_PNojFueY"
      },
      "source": [
        "from torch.nn.utils.rnn import pad_sequence\n",
        "\n",
        "\n",
        "# collate_fn в DataLoader вызывается чуть ли не в самом конце сборки одного батча\n",
        "# поэтому это отличный способ сделать дополнительную предобработку данных\n",
        "# в нашем случае нам необходимо сделать padding и сделать маску\n",
        "class CollateBatch:\n",
        "    \"\"\"\n",
        "    Collate Function for DataLoader as Class to perform postprocessing.\n",
        "    We better use classes because it is better for code structure\n",
        "    and much more convenient to build custom functions for batch of samples such pin_memory.\n",
        "\n",
        "    Parameters\n",
        "    ----------\n",
        "    instances : `List[Dict[str, List[int]]]`\n",
        "        List of samples as dicts from PyTorch Dataset.\n",
        "    \"\"\"\n",
        "\n",
        "    def __init__(self, instances: List[Dict[str, List[int]]]) -> None:\n",
        "        batch = self._form_batch(instances)\n",
        "        # Pad sentences as each sentence is of different size\n",
        "        self.source_tokens = pad_sequence([torch.Tensor(x) for x in batch['source']], batch_first=True).long()\n",
        "        self.target_tokens = pad_sequence([torch.Tensor(x) for x in batch['target']], batch_first=True).long()\n",
        "        # Construct mask to identify padding\n",
        "        self.source_mask = self.source_tokens.ne(0)\n",
        "        self.target_mask = self.target_tokens.ne(0)\n",
        "\n",
        "    def pin_memory(self):\n",
        "        \"\"\"Pin memory for fast data transfer on CUDA.\"\"\"\n",
        "        self.__dict__ = {\n",
        "            prop: tensor.pin_memory()\n",
        "            for prop, tensor in self.__dict__.items()\n",
        "        }\n",
        "        return self\n",
        "\n",
        "    def to_device(\n",
        "        self,\n",
        "        device: Union[str, torch.device],\n",
        "        **extra_params\n",
        "    ) -> Dict[str, torch.Tensor]:\n",
        "        \"\"\"Helper function to send batch to device and convert it to dict.\"\"\"\n",
        "        return {\n",
        "            prop: tensor.to(device=device, **extra_params)\n",
        "            for prop, tensor in self.__dict__.items()\n",
        "        }\n",
        "\n",
        "    @staticmethod\n",
        "    def _form_batch(instances: List[Dict[str, List[int]]]) -> Dict[str, List[List]]:\n",
        "        \"\"\"Consturct normal batched data as dict from list of dicts.\"\"\"\n",
        "        tensor_dict = defaultdict(list)\n",
        "        for instance in instances:\n",
        "            for field, tensor in instance.items():\n",
        "                tensor_dict[field].append(tensor)\n",
        "        return tensor_dict"
      ],
      "execution_count": null,
      "outputs": []
    },
    {
      "cell_type": "code",
      "metadata": {
        "id": "HuwoZnJxFueY",
        "outputId": "0cd1843c-2cba-416f-f4d8-d7e0521cdd0d"
      },
      "source": [
        "# Building datasets\n",
        "train_dataset = NMTDataset('./data/train.txt')\n",
        "validation_dataset = NMTDataset('./data/test.txt')\n",
        "# Building Vocabulry to convert words to indecies sequence\n",
        "vocab = Vocabulary(\n",
        "    train_dataset=train_dataset,\n",
        "    validation_dataset=validation_dataset\n",
        ")\n",
        "# Index datasets with Vocabulary\n",
        "train_dataset.index_with(vocab)\n",
        "validation_dataset.index_with(vocab)\n",
        "# Building DataLoaders\n",
        "train_dataloader = DataLoader(\n",
        "    dataset=train_dataset,\n",
        "    batch_size=32,\n",
        "    num_workers=1,\n",
        "    pin_memory=True,\n",
        "    collate_fn=CollateBatch,\n",
        "    shuffle=True,\n",
        ")\n",
        "validation_dataloader = DataLoader(\n",
        "    dataset=validation_dataset,\n",
        "    batch_size=32,\n",
        "    num_workers=1,\n",
        "    pin_memory=True,\n",
        "    collate_fn=CollateBatch,\n",
        ")"
      ],
      "execution_count": null,
      "outputs": [
        {
          "name": "stderr",
          "output_type": "stream",
          "text": [
            "Reading dataset at ./data/train.txt in memory: 10661it [00:00, 278516.06it/s]\n",
            "Reading dataset at ./data/test.txt in memory: 2666it [00:00, 294837.70it/s]\n",
            "Building vocab from train_dataset: 100%|██████████| 10661/10661 [00:00<00:00, 137933.24it/s]\n",
            "Building vocab from validation_dataset: 100%|██████████| 2666/2666 [00:00<00:00, 143073.01it/s]\n"
          ]
        }
      ]
    },
    {
      "cell_type": "markdown",
      "metadata": {
        "id": "1zcENiUNFueY"
      },
      "source": [
        "### Напишем модель на основе LSTM для NMT задачи"
      ]
    },
    {
      "cell_type": "code",
      "metadata": {
        "id": "onjJYuBcFueY"
      },
      "source": [
        "from torch.nn.utils.rnn import pack_padded_sequence, pad_packed_sequence\n",
        "\n",
        "\n",
        "class LSTMEncoderOutput(NamedTuple):\n",
        "    final_state: torch.Tensor\n",
        "    cell_state: torch.Tensor\n",
        "\n",
        "\n",
        "class LSTMEncoder(torch.nn.Module):\n",
        "    \"\"\"\n",
        "    Decode text data with LSTM Module.\n",
        "\n",
        "    Parameters\n",
        "    ----------\n",
        "    input_size : `int`, required\n",
        "        Hidden size of input tokens.\n",
        "    hidden_size : `int`, required\n",
        "        Hidden size for LSTM.\n",
        "    num_layers : `int`, optional (default = `1`)\n",
        "        Number of stacked LSTM modules.\n",
        "    dropout : `int`, optional (default = `0.2`)\n",
        "        Dropout for LSTM module.\n",
        "    \"\"\"\n",
        "    def __init__(\n",
        "        self,\n",
        "        input_size: int,\n",
        "        hidden_size: int,\n",
        "        num_layers: int = 1,\n",
        "        dropout: float = 0.2\n",
        "    ) -> None:\n",
        "        super().__init__()\n",
        "        self._input_size = input_size\n",
        "        self._hidden_size = hidden_size\n",
        "        self._encoder = torch.nn.LSTM(\n",
        "            input_size=input_size,\n",
        "            hidden_size=hidden_size,\n",
        "            num_layers=num_layers,\n",
        "            dropout=dropout,\n",
        "            batch_first=True,\n",
        "            bidirectional=True,\n",
        "        )\n",
        "\n",
        "    def forward(self, source_tokens: torch.Tensor, mask: torch.Tensor) -> LSTMEncoderOutput:\n",
        "        # source_tokens ~ (batch size, sequence length, hidden size)\n",
        "        # mask ~ (batch size, sequence length)\n",
        "        # 1) Pack sequence to skip processing of padding in tokens tensor\n",
        "        # (LSTM returns 0 on padding)\n",
        "        # Get lengths of each sequence\n",
        "        lenghts = mask.long().sum(dim=-1)\n",
        "        # Pack sequence to skip padding in RNN\n",
        "        packed_sequence_input = pack_padded_sequence(\n",
        "            input=source_tokens,\n",
        "            lengths=lenghts.data.tolist(),\n",
        "            batch_first=True,\n",
        "            # Let pack_padded do the sorting for ourselves\n",
        "            enforce_sorted=False,\n",
        "        )\n",
        "        # 2) Encode PackedSequence\n",
        "        padded_encoded_sequence, (final_hidden_state, cell_state) = self._encoder(packed_sequence_input)\n",
        "        # 3) Unpack encoded sequence\n",
        "        # encoded_sequence ~ (batch size, sequence length, LSTM hidden size * 2)\n",
        "        encoded_sequence = pad_packed_sequence(padded_encoded_sequence, batch_first=True)\n",
        "        # Take average over frist dimension as it returns both forward and backward paths of LSTM\n",
        "        return LSTMEncoderOutput(\n",
        "            final_hidden_state.mean(0).unsqueeze(0),\n",
        "            cell_state.mean(0).unsqueeze(0)\n",
        "        )\n",
        "\n",
        "    def get_input_size(self):\n",
        "        return self._input_size\n",
        "\n",
        "    def get_output_size(self):\n",
        "        # Return bidirectional LSTM so mul by 2\n",
        "        return self._hidden_size * 2\n",
        "\n",
        "\n",
        "class LSTMDecoder(torch.nn.Module):\n",
        "    \"\"\"\n",
        "    Decode sequence for NMT task with LSTM Module.\n",
        "\n",
        "    Parameters\n",
        "    ----------\n",
        "    input_size : `int`, required\n",
        "        Hidden size of input tokens.\n",
        "    hidden_size : `int`, required\n",
        "        Hidden size for LSTM.\n",
        "    num_layers : `int`, optional (default = `1`)\n",
        "        Number of stacked LSTM modules.\n",
        "    dropout : `int`, optional (default = `0.2`)\n",
        "        Dropout for LSTM module.\n",
        "    \"\"\"\n",
        "    def __init__(\n",
        "        self,\n",
        "        input_size: int,\n",
        "        hidden_size: int,\n",
        "        num_layers: int = 1,\n",
        "        dropout: float = 0.2\n",
        "    ) -> None:\n",
        "        super().__init__()\n",
        "        self._input_size = input_size\n",
        "        self._hidden_size = hidden_size\n",
        "        self._decoder = torch.nn.LSTM(\n",
        "            input_size=input_size,\n",
        "            hidden_size=hidden_size,\n",
        "            num_layers=num_layers,\n",
        "            dropout=dropout,\n",
        "            batch_first=True,\n",
        "        )\n",
        "\n",
        "    def forward(\n",
        "        self,\n",
        "        target_tokens: torch.Tensor,\n",
        "        encoder_output: LSTMEncoderOutput,\n",
        "        mask: torch.Tensor,\n",
        "    ) -> torch.Tensor:\n",
        "        # target_tokens ~ (batch size, sequence length, hidden size)\n",
        "        # mask ~ (batch size, sequence length)\n",
        "        # 1) Pack sequence to skip processing of padding in tokens tensor\n",
        "        # (LSTM returns 0 on padding)\n",
        "        lenghts = mask.long().sum(dim=-1)\n",
        "        # Pack sequence to skip padding in RNN\n",
        "        packed_sequence_input = pack_padded_sequence(\n",
        "            input=target_tokens,\n",
        "            lengths=lenghts.data.tolist(),\n",
        "            batch_first=True,\n",
        "            # Let pack_padded do the sorting for ourselves\n",
        "            enforce_sorted=False,\n",
        "        )\n",
        "        # 2) Encode PackedSequence\n",
        "        padded_decoded_sequence = self._decoder(packed_sequence_input, encoder_output)[0]\n",
        "        # 3) Unpack encoded sequence\n",
        "        # decoded_sequence ~ (batch size, sequence lenght, LSTM hidden size)\n",
        "        decoded_sequence, _ = pad_packed_sequence(padded_decoded_sequence, batch_first=True)\n",
        "        return decoded_sequence\n",
        "\n",
        "    def get_input_size(self):\n",
        "        return self._input_size\n",
        "\n",
        "    def get_output_size(self):\n",
        "        return self._hidden_size"
      ],
      "execution_count": null,
      "outputs": []
    },
    {
      "cell_type": "markdown",
      "metadata": {
        "id": "MkxDSYD4FueZ"
      },
      "source": [
        "### Напишем модель на основе Transformer для NMT задачи"
      ]
    },
    {
      "cell_type": "code",
      "metadata": {
        "id": "vdL0JPAOFueZ"
      },
      "source": [
        "class TransformerEncoderOutput(NamedTuple):\n",
        "    memory: torch.Tensor\n",
        "    mask: torch.Tensor\n",
        "\n",
        "\n",
        "class PositionalEncoding(torch.nn.Module):\n",
        "    \"\"\"\n",
        "    Positional encoding for Transformer\n",
        "\n",
        "    Parameters\n",
        "    ----------\n",
        "    hidden_size : `int`, required\n",
        "        Hidden size of positional encoding.\n",
        "        Must match hidden size of input tokens.\n",
        "    dropout : `float`, required\n",
        "        Dropout probability after positional encoding addition.\n",
        "        If None dropout is not considered.\n",
        "    max_len : `int`, optional (default = `5000`)\n",
        "        Maximum sequence length to construct Positional Encoding. \n",
        "    \"\"\"\n",
        "\n",
        "    def __init__(self, hidden_size: int, dropout: float, max_len: int = 5000):\n",
        "        super().__init__()\n",
        "        # Compute the positional encodings once in log space.\n",
        "        pe = torch.zeros(max_len, hidden_size)\n",
        "        position = torch.arange(0, max_len, dtype=torch.float).unsqueeze(1)\n",
        "        div_term = torch.exp(\n",
        "            torch.arange(0, hidden_size, 2, dtype=torch.float) * -(math.log(10000.0) / hidden_size)\n",
        "        )\n",
        "        # First sin, then cos\n",
        "        pe[:, 0::2] = torch.sin(position * div_term)\n",
        "        pe[:, 1::2] = torch.cos(position * div_term)\n",
        "        # Make torch.nn.Parameter from pe\n",
        "        self.pe = torch.nn.Parameter(pe.unsqueeze(0), requires_grad=False)\n",
        "        # Set dropout\n",
        "        if dropout:\n",
        "            self._dropout = nn.Dropout(p=dropout)\n",
        "        else:\n",
        "            self._dropout = lambda x: x\n",
        "\n",
        "    def forward(self, tokens: torch.Tensor) -> torch.Tensor:\n",
        "        tokens = tokens + self.pe[:, :tokens.size(1)]\n",
        "        return self._dropout(tokens)\n",
        "\n",
        "\n",
        "# PyTorch Transformer is somewhat weirdly implemented\n",
        "# so you better write one yourself but for now let's use PyTorch Transformer\n",
        "class TransformerEncoder(torch.nn.Module):\n",
        "    \"\"\"\n",
        "    Encode input tokens with Transformer.\n",
        "\n",
        "    Parameters\n",
        "    ----------\n",
        "    input_size : `int`, required\n",
        "        Hidden size of input tokens.\n",
        "    num_layers : `int`, required\n",
        "        Number of stacked Transformers.\n",
        "    feedforward_hidden_dim : `int`, optional (default = `2048`)\n",
        "        Hidden size for feedforward layer in Transformer.\n",
        "    num_attention_heads : `int`, optional (default = `8`)\n",
        "        Number of attention heads in Transformer.\n",
        "    dropout_prob : `float`, optional (default = `0.1`)\n",
        "        Dropout probability for Transformer.\n",
        "    activation : `str`, optional (default = `\"relu\"`)\n",
        "        The activation function of intermediate layer, relu or gelu.\n",
        "    \"\"\"\n",
        "\n",
        "    def __init__(\n",
        "        self,\n",
        "        input_size: int,\n",
        "        num_layers: int,\n",
        "        feedforward_hidden_dim: int = 2048,\n",
        "        num_attention_heads: int = 8,\n",
        "        dropout_prob: float = 0.1,\n",
        "        activation: str = \"relu\",\n",
        "    ) -> None:\n",
        "        super().__init__()\n",
        "        layer = torch.nn.TransformerEncoderLayer(\n",
        "            d_model=input_size,\n",
        "            nhead=num_attention_heads,\n",
        "            dim_feedforward=feedforward_hidden_dim,\n",
        "            dropout=dropout_prob,\n",
        "            activation=activation,\n",
        "        )\n",
        "        self._transformer = torch.nn.TransformerEncoder(layer, num_layers)\n",
        "        self._positional_encoding = PositionalEncoding(\n",
        "            hidden_size=input_size,\n",
        "            dropout=None,\n",
        "        )\n",
        "        self._input_size = input_size\n",
        "\n",
        "    def forward(self, source_tokens: torch.Tensor, mask: torch.Tensor) -> TransformerEncoderOutput:\n",
        "        # source_tokens ~ (batch size, sequence length, hidden size)\n",
        "        # mask ~ (batch size, sequence length)\n",
        "        tokens = self._positional_encoding(source_tokens)\n",
        "        # For some reason the torch transformer expects the shape (sequence, batch, features), not the more\n",
        "        # familiar (batch, sequence, features), so we have to fix it.\n",
        "        # tokens ~ (sequence length, batch size, hidden size)\n",
        "        tokens = tokens.permute(1, 0, 2)\n",
        "        # For some other reason, the torch transformer takes the mask backwards.\n",
        "        tokens_mask = ~mask\n",
        "        # output ~ (sequence length, batch size, hidden size)\n",
        "        output = self._transformer(tokens, src_key_padding_mask=tokens_mask)\n",
        "        # output ~ (batch size, sequence length, hidden size)\n",
        "        output = output.permute(1, 0, 2)\n",
        "        return TransformerEncoderOutput(output, mask)\n",
        "\n",
        "    def get_input_size(self) -> int:\n",
        "        return self._input_size\n",
        "\n",
        "    def get_output_size(self) -> int:\n",
        "        return self._input_size\n",
        "\n",
        "\n",
        "class TransformerDecoder(torch.nn.Module):\n",
        "    \"\"\"\n",
        "    Decode sequence for NMT task with Transformer.\n",
        "\n",
        "    Parameters\n",
        "    ----------\n",
        "    input_size : `int`, required\n",
        "        Hidden size of input tokens.\n",
        "    num_layers : `int`, required\n",
        "        Number of stacked Transformers.\n",
        "    feedforward_hidden_dim : `int`, optional (default = `2048`)\n",
        "        Hidden size for feedforward layer in Transformer.\n",
        "    num_attention_heads : `int`, optional (default = `8`)\n",
        "        Number of attention heads in Transformer.\n",
        "    dropout_prob : `float`, optional (default = `0.1`)\n",
        "        Dropout probability for Transformer.\n",
        "    activation : `str`, optional (default = `\"relu\"`)\n",
        "        The activation function of intermediate layer, relu or gelu.\n",
        "    \"\"\"\n",
        "\n",
        "    def __init__(\n",
        "        self,\n",
        "        input_size: int,\n",
        "        num_layers: int,\n",
        "        feedforward_hidden_dim: int = 2048,\n",
        "        num_attention_heads: int = 8,\n",
        "        dropout_prob: float = 0.1,\n",
        "        activation: str = \"relu\",\n",
        "    ) -> None:\n",
        "        super().__init__()\n",
        "        layer = torch.nn.TransformerDecoderLayer(\n",
        "            d_model=input_size,\n",
        "            nhead=num_attention_heads,\n",
        "            dim_feedforward=feedforward_hidden_dim,\n",
        "            dropout=dropout_prob,\n",
        "            activation=activation\n",
        "        )\n",
        "        self._transformer = torch.nn.TransformerDecoder(layer, num_layers=num_layers)\n",
        "        self._input_size = input_size\n",
        "\n",
        "    def forward(\n",
        "        self,\n",
        "        target_tokens: torch.Tensor,\n",
        "        encoder_output: TransformerEncoderOutput,\n",
        "        mask: torch.Tensor\n",
        "    ) -> torch.Tensor:\n",
        "        # target_tokens ~ (batch size, sequence length, hidden size)\n",
        "        # mask ~ (batch size, sequence length)\n",
        "        # For some reason the torch transformer expects the shape (sequence, batch, features), not the more\n",
        "        # familiar (batch, sequence, features), so we have to fix it.\n",
        "        # target_tokens ~ (sequence length, batch size, hidden size)\n",
        "        # memory ~ (sequence length, batch size, hidden size)\n",
        "        target_tokens = target_tokens.permute(1, 0, 2)\n",
        "        memory = encoder_output.memory.permute(1, 0, 2)\n",
        "        # For some other reason, the torch transformer takes the mask backwards.\n",
        "        target_mask = ~mask\n",
        "        memory_mask = ~encoder_output.mask\n",
        "        # output ~ (sequence length, batch size, hidden size)\n",
        "        output = self._transformer(\n",
        "            target_tokens, memory,\n",
        "            tgt_key_padding_mask=target_mask,\n",
        "            memory_key_padding_mask=memory_mask,\n",
        "        )\n",
        "        # output ~ (batch size, sequence length, hidden size)\n",
        "        output = output.permute(1, 0, 2)\n",
        "        return output\n",
        "\n",
        "    def get_input_size(self) -> int:\n",
        "        return self._input_size\n",
        "\n",
        "    def get_output_size(self) -> int:\n",
        "        return self._input_size"
      ],
      "execution_count": null,
      "outputs": []
    },
    {
      "cell_type": "markdown",
      "metadata": {
        "id": "lx58hLLdFuea"
      },
      "source": [
        "### Напишем Loss под нашу задачу\n",
        "\n",
        "До этого мы использовали дефолтные лоссы в PyTorch, но теперь нам нужно написать свой лосс, так как мы хотим посчитать `CrossEntropyLoss` по тензору из 3 размерностей, в то время как `PyTorch CrossEntropyLoss` принимает тензоры размерности 2.\n",
        "\n",
        "Возможно в примерах в интернете вы виделе как пишут свой лосс через `torch.autograd.Function`. Это хорошая практики и отличная тренировка писать ручками свой Backward, однако такой подход лучше всего подходит, когда у вас сложный лосс и там возникают for. Для нашего лосс это не нужно, поэтому сдалем всё через знакомый нам `torch.nn.Module`.\n",
        "\n",
        "Очевидное решение, это просто сделать reshape и соединить `batch size` и `sequence length`, однако в таком случае мы будет считать лосс ещё и по `padding`, что нам совсем не нужно.\n",
        "\n",
        "Поэтому напишем свой `CrossEntropyLoss`, который не будет учитывать `padding`. Его идея будет заключаться в том, чтобы взять логиты под индексами, которые не являются `padding`. Для этого очень хорошо подходит операция [torch.gather](https://pytorch.org/docs/stable/generated/torch.gather.html#torch-gather), которая буквально переводится как \"собрать\"."
      ]
    },
    {
      "cell_type": "code",
      "metadata": {
        "id": "8V9-Gee_Fuea"
      },
      "source": [
        "class SequenceNLLLoss(torch.nn.Module):\n",
        "    \"\"\"NLL Loss for NMT task that ignores computing loss on paddding.\"\"\"\n",
        "    def __init__(self, size_average: bool = True) -> None:\n",
        "        super().__init__()\n",
        "        self._size_average = size_average\n",
        "\n",
        "    def forward(\n",
        "        self,\n",
        "        logits: torch.Tensor,\n",
        "        target: torch.Tensor,\n",
        "        weights: torch.FloatTensor,\n",
        "    ) -> torch.Tensor:\n",
        "        # logits ~ (batch size, sequence length, num_classes)\n",
        "        # target ~ (batch size, sequence length)\n",
        "        # weights ~ (batch size, sequence length)\n",
        "        non_batch_dims = tuple(range(1, weights.dim()))\n",
        "        # weights_batch_sum  (batch size,)\n",
        "        weights_batch_sum = weights.sum(dim=non_batch_dims)\n",
        "        # logits_flat ~ (batch size * sequence length, num_classes)\n",
        "        logits_flat = logits.view(-1, logits.size(-1))\n",
        "        log_probs_flat = torch.log_softmax(logits_flat, dim=-1)\n",
        "        # targets_flat ~ (batch size * sequence length, 1)\n",
        "        targets_flat = target.view(-1, 1).long()\n",
        "        # nll_loss ~ (batch size * sequence length,)\n",
        "        # Gather numbers from log_probs_flat in targets_flat indices\n",
        "        nll_loss = -torch.gather(log_probs_flat, dim=1, index=targets_flat)\n",
        "        # nll_loss ~ (batch size, sequence length)\n",
        "        nll_loss = nll_loss.view(*target.size()) * weights\n",
        "        # per_batch_nll_loss ~ (batch size,)\n",
        "        per_batch_nll_loss = nll_loss.sum(non_batch_dims) / torch.clamp(weights_batch_sum, min=1e-13)\n",
        "        if self._size_average:\n",
        "            num_non_empty_sequences = torch.clamp(weights_batch_sum.gt(0).float().sum(), min=1e-13)\n",
        "            return per_batch_nll_loss.sum() / num_non_empty_sequences\n",
        "        else:\n",
        "            return per_batch_nll_loss"
      ],
      "execution_count": null,
      "outputs": []
    },
    {
      "cell_type": "markdown",
      "metadata": {
        "id": "1CLkPCLrFueb"
      },
      "source": [
        "### Напишем в общем виде модель для задачи NMT, которая будет поддерживать общий API моделей LSTM и Transformer описанных выше"
      ]
    },
    {
      "cell_type": "code",
      "metadata": {
        "id": "3MqgASTXFueb"
      },
      "source": [
        "class NMTModel(torch.nn.Module):\n",
        "    \"\"\"\n",
        "    Model for NMT task.\n",
        "\n",
        "    Parameters\n",
        "    ----------\n",
        "    vocab : `Vocabulary`, required\n",
        "        Vocabulary with label encoding and label decoding constructed on datasets.\n",
        "    embeddings : `torch.nn.ModuleDict`, required\n",
        "        Torch ModuleDict of embeddings. It should have source and target keys.\n",
        "    encoder : `torch.nn.Module`, required\n",
        "        Encoder module for input tokens.\n",
        "    decoder : `torch.nn.Module`, required\n",
        "        Decoder module for encoder output.\n",
        "    \"\"\"\n",
        "\n",
        "    def __init__(\n",
        "        self,\n",
        "        vocab: Vocabulary,\n",
        "        embeddings: torch.nn.ModuleDict,\n",
        "        # Better use seperate Interface for encoder and decoder\n",
        "        # but for now let's keep it simple stupid and use torch.nn.Module\n",
        "        encoder: torch.nn.Module,\n",
        "        decoder: torch.nn.Module,\n",
        "        device: str,\n",
        "    ) -> None:\n",
        "        super().__init__()\n",
        "        self.vocab = vocab\n",
        "        self.device = device\n",
        "        self._embeddings = embeddings\n",
        "        self._encoder = encoder\n",
        "        self._decoder = decoder\n",
        "        self._projection = torch.nn.Linear(\n",
        "            in_features=self._decoder.get_output_size(),\n",
        "            out_features=vocab.get_size(\"target\")\n",
        "        )\n",
        "        self._loss = SequenceNLLLoss()\n",
        "\n",
        "    def forward(\n",
        "        self,\n",
        "        source_tokens: torch.Tensor,\n",
        "        target_tokens: torch.Tensor,\n",
        "        source_mask: torch.Tensor,\n",
        "        target_mask: torch.Tensor,\n",
        "    ) -> Dict[str, torch.Tensor]:\n",
        "        # source_tokens ~ (batch size, sequence length)\n",
        "        # target_tokens ~ (batch size, sequence length)\n",
        "        # source_mask ~ (batch size, sequence length)\n",
        "        # target_mask ~ (batch size, sequence length)\n",
        "        # 1) Embed source and run encoder\n",
        "        encoder_output = self._encoder(\n",
        "            self._embeddings[\"source\"](source_tokens),\n",
        "            mask=source_mask\n",
        "        )\n",
        "        # 2) Embed target and run encoder\n",
        "        decoder_output = self._decoder(\n",
        "            self._embeddings[\"target\"](target_tokens),\n",
        "            encoder_output=encoder_output,\n",
        "            mask=target_mask\n",
        "        )\n",
        "        # 3) Project output to vocabulary\n",
        "        output = self._projection(decoder_output)\n",
        "        # 4) Construct output dict\n",
        "        output_dict = {\"logits\": output, \"probs\": torch.softmax(output, dim=-1)}\n",
        "        output_dict[\"prediction\"] = torch.argmax(output_dict[\"probs\"], dim=-1)\n",
        "        output_dict[\"loss\"] = self._loss(\n",
        "            logits=output_dict[\"logits\"],\n",
        "            target=target_tokens,\n",
        "            weights=target_mask.float(),\n",
        "        )\n",
        "        return output_dict\n",
        "\n",
        "    def decode(self, indices: List[int], field: str) -> List[str]:\n",
        "        \"\"\"Decode sequence of `indices` based on `filed` in Vocabulary.\"\"\"\n",
        "        return [self.vocab.index2word[field][int(idx)] for idx in indices]"
      ],
      "execution_count": null,
      "outputs": []
    },
    {
      "cell_type": "markdown",
      "metadata": {
        "id": "KjG-dnk_Fuec"
      },
      "source": [
        "### Ниже уже знакомый вам train-evaluation loop"
      ]
    },
    {
      "cell_type": "code",
      "metadata": {
        "id": "C0goDx85Fuec"
      },
      "source": [
        "def train_epoch(\n",
        "    model: torch.nn.Module,\n",
        "    data_loader: DataLoader,\n",
        "    optimizer: torch.optim.Optimizer,\n",
        "    return_losses: bool = False,\n",
        ") -> Union[Dict[str, float], Tuple[Dict[str, float], List[float]]]:\n",
        "    model.train()\n",
        "    total_loss = 0\n",
        "    num_batches = 0\n",
        "    all_losses = []\n",
        "    with tqdm(total=len(data_loader), file=sys.stdout) as prbar:\n",
        "        for batch in data_loader:\n",
        "            # Move Batch to GPU\n",
        "            batch = batch.to_device(model.device, non_blocking=True)\n",
        "            # Get model results\n",
        "            output_dict = model(**batch)\n",
        "            loss = output_dict['loss']\n",
        "            # Update weights\n",
        "            loss.backward()\n",
        "            optimizer.step()\n",
        "            optimizer.zero_grad()\n",
        "            # Update descirption for tqdm\n",
        "            prbar.set_description(f\"Loss: {loss.item():.4f}\")\n",
        "            prbar.update(1)\n",
        "            total_loss += loss.item()\n",
        "            num_batches += 1\n",
        "            all_losses.append(loss.detach().item())\n",
        "    metrics = {\"loss\": total_loss / num_batches}\n",
        "    if return_losses:\n",
        "        return metrics, all_losses\n",
        "    else:\n",
        "        return metrics\n",
        "\n",
        "\n",
        "def validate(\n",
        "    model: torch.nn.Module,\n",
        "    data_loader: DataLoader,\n",
        ") -> Dict[str, float]:\n",
        "    model.eval()\n",
        "    total_loss = 0\n",
        "    num_batches = 0\n",
        "    with tqdm(total=len(data_loader), file=sys.stdout) as prbar:\n",
        "        for batch in data_loader:\n",
        "            # Move Batch to GPU\n",
        "            batch = batch.to_device(model.device, non_blocking=True)\n",
        "            # Get model results\n",
        "            output_dict = model(**batch)\n",
        "            loss = output_dict['loss']\n",
        "            # Update descirption for tqdm\n",
        "            prbar.set_description(f\"Loss: {loss.item():.4f}\")\n",
        "            prbar.update(1)\n",
        "            total_loss += loss.item()\n",
        "            num_batches += 1\n",
        "    metrics = {\"loss\": total_loss / num_batches}\n",
        "    return metrics\n",
        "\n",
        "\n",
        "def random_sample_results(\n",
        "    model: torch.nn.Module,\n",
        "    batch: CollateBatch,\n",
        ") -> None:\n",
        "    \"\"\"Randomly sample from batch to log model results.\"\"\"\n",
        "    batch = batch.to_device(model.device, non_blocking=True)\n",
        "    result = model(**batch)\n",
        "    # Get one sample to log\n",
        "    idx = random.randint(0, len(batch))\n",
        "    # Print results\n",
        "    print(\n",
        "        f\"#############\\n\"\n",
        "        f\"RANDOM SAMPLE:\\n\"\n",
        "        f\"Source sample: {' '.join(model.decode(batch['source_tokens'][idx], field='source'))}\\n\"\n",
        "        f\"Target sample: {' '.join(model.decode(batch['target_tokens'][idx], field='target'))}\\n\"\n",
        "        f\"Predict sample: {' '.join(model.decode(result['prediction'][idx], field='target'))}\\n\"\n",
        "        f\"#############\"\n",
        "    )"
      ],
      "execution_count": null,
      "outputs": []
    },
    {
      "cell_type": "code",
      "metadata": {
        "id": "p-v_ks33Fuec"
      },
      "source": [
        "class LossInfo(NamedTuple):\n",
        "    full_train_losses: List[float]\n",
        "    train_epoch_losses: List[float]\n",
        "    eval_epoch_losses: List[float]\n",
        "\n",
        "\n",
        "EPOCHS = 10\n",
        "LR = 0.001"
      ],
      "execution_count": null,
      "outputs": []
    },
    {
      "cell_type": "code",
      "metadata": {
        "id": "WPLOfWoaFuec"
      },
      "source": [
        "def fit(\n",
        "    model: torch.nn.Module,\n",
        "    epochs: int,\n",
        "    train_data_loader: DataLoader,\n",
        "    validation_data_loader: DataLoader,\n",
        "    optimizer: torch.optim.Optimizer,\n",
        "    show_random: bool = True\n",
        ") -> LossInfo:\n",
        "    all_train_losses = []\n",
        "    epoch_train_losses = []\n",
        "    epoch_eval_losses = []\n",
        "    for epoch in range(epochs):\n",
        "        # Train step\n",
        "        print(f\"Train Epoch: {epoch}\")\n",
        "        train_metrics, one_epoch_train_losses = train_epoch(\n",
        "            model=model,\n",
        "            data_loader=train_data_loader,\n",
        "            optimizer=optimizer,\n",
        "            return_losses=True,\n",
        "        )\n",
        "        print(f\"Train step loss: {train_metrics['loss']:.4f}\")\n",
        "        # Save Train losses\n",
        "        all_train_losses.extend(one_epoch_train_losses)\n",
        "        epoch_train_losses.append(train_metrics['loss'])\n",
        "        # Eval step\n",
        "        print(f\"Validation Epoch: {epoch}\")\n",
        "        with torch.no_grad():\n",
        "            validation_metrics = validate(\n",
        "                model=model,\n",
        "                data_loader=validation_data_loader,\n",
        "            )\n",
        "            print(f\"Validation step loss: {validation_metrics['loss']:.4f}\")\n",
        "            if show_random:\n",
        "                # Get random batch\n",
        "                batch = next(iter(validation_data_loader))\n",
        "                random_sample_results(model, batch)\n",
        "        # Save eval losses\n",
        "        epoch_eval_losses.append(validation_metrics['loss'])\n",
        "    return LossInfo(all_train_losses, epoch_train_losses, epoch_eval_losses)"
      ],
      "execution_count": null,
      "outputs": []
    },
    {
      "cell_type": "markdown",
      "metadata": {
        "id": "-8pZUFb9Fuec"
      },
      "source": [
        "### Ну что же... Перейдём к обучению моделей"
      ]
    },
    {
      "cell_type": "markdown",
      "metadata": {
        "id": "RIP_qXwzFued"
      },
      "source": [
        "#### Сначала LSTM"
      ]
    },
    {
      "cell_type": "code",
      "metadata": {
        "id": "dN44I_D6Fued",
        "outputId": "f9f8843e-3d2e-4a51-ca65-4d6fcc763c11"
      },
      "source": [
        "# Сначала encoder\n",
        "input_size = 128\n",
        "encoder_hidden_size = 256\n",
        "encoder = LSTMEncoder(\n",
        "    input_size=input_size,\n",
        "    hidden_size=encoder_hidden_size,\n",
        "    # Dropout in LSTM Module is activated only if pass num_layers > 1\n",
        "    dropout=0.0,\n",
        ")\n",
        "# Теперь decoder\n",
        "decoder = LSTMDecoder(\n",
        "    input_size=encoder_hidden_size,\n",
        "    hidden_size=encoder_hidden_size,\n",
        "    # Dropout in LSTM Module is activated only if pass num_layers > 1\n",
        "    dropout=0.0,\n",
        ")\n",
        "# Ну и объединим это всё в одну модель\n",
        "lstm_model = NMTModel(\n",
        "    vocab=vocab,\n",
        "    embeddings=torch.nn.ModuleDict({\n",
        "        \"source\": torch.nn.Embedding(vocab.get_size(\"source\"), input_size, padding_idx=0),\n",
        "        \"target\": torch.nn.Embedding(vocab.get_size(\"target\"), encoder_hidden_size, padding_idx=0),\n",
        "    }),\n",
        "    encoder=encoder,\n",
        "    decoder=decoder,\n",
        "    device=DEVICE,\n",
        ").to(device=DEVICE)\n",
        "print(f\"Количество параметров: {sum(p.numel() for p in lstm_model.parameters())}\")"
      ],
      "execution_count": null,
      "outputs": [
        {
          "name": "stdout",
          "output_type": "stream",
          "text": [
            "Количество параметров: 3548224\n"
          ]
        }
      ]
    },
    {
      "cell_type": "code",
      "metadata": {
        "id": "cOZQIZO3Fued",
        "outputId": "75e80eba-84b3-4d62-8303-4143513467c8"
      },
      "source": [
        "loss_info = fit(\n",
        "    model=lstm_model,\n",
        "    epochs=EPOCHS,\n",
        "    train_data_loader=train_dataloader,\n",
        "    validation_data_loader=validation_dataloader,\n",
        "    optimizer=torch.optim.Adam(lstm_model.parameters(), lr=LR)\n",
        ")"
      ],
      "execution_count": null,
      "outputs": [
        {
          "name": "stdout",
          "output_type": "stream",
          "text": [
            "Train Epoch: 0\n",
            "Loss: 0.3896: 100%|██████████| 334/334 [00:39<00:00,  8.47it/s]\n",
            "Train step loss: 0.4086\n",
            "Validation Epoch: 0\n",
            "Loss: 0.1354: 100%|██████████| 84/84 [00:03<00:00, 25.86it/s]\n",
            "Validation step loss: 0.3299\n",
            "#############\n",
            "RANDOM SAMPLE:\n",
            "Source sample: vous etes vraiment embetants . <end> <pad> <pad> <pad> <pad>\n",
            "Target sample: <start> you re really annoying . <end> <pad> <pad> <pad> <pad>\n",
            "Predict sample: <start> you re really annoying . <end> gentleman gentleman gentleman gentleman\n",
            "#############\n",
            "Train Epoch: 1\n",
            "Loss: 0.1267:  39%|███▉      | 130/334 [00:16<00:25,  7.90it/s]\n"
          ]
        },
        {
          "ename": "KeyboardInterrupt",
          "evalue": "",
          "output_type": "error",
          "traceback": [
            "\u001b[0;31m---------------------------------------------------------------------------\u001b[0m",
            "\u001b[0;31mKeyboardInterrupt\u001b[0m                         Traceback (most recent call last)",
            "\u001b[0;32m<ipython-input-38-4a11f910aae6>\u001b[0m in \u001b[0;36m<module>\u001b[0;34m\u001b[0m\n\u001b[1;32m      4\u001b[0m     \u001b[0mtrain_data_loader\u001b[0m\u001b[0;34m=\u001b[0m\u001b[0mtrain_dataloader\u001b[0m\u001b[0;34m,\u001b[0m\u001b[0;34m\u001b[0m\u001b[0;34m\u001b[0m\u001b[0m\n\u001b[1;32m      5\u001b[0m     \u001b[0mvalidation_data_loader\u001b[0m\u001b[0;34m=\u001b[0m\u001b[0mvalidation_dataloader\u001b[0m\u001b[0;34m,\u001b[0m\u001b[0;34m\u001b[0m\u001b[0;34m\u001b[0m\u001b[0m\n\u001b[0;32m----> 6\u001b[0;31m     \u001b[0moptimizer\u001b[0m\u001b[0;34m=\u001b[0m\u001b[0mtorch\u001b[0m\u001b[0;34m.\u001b[0m\u001b[0moptim\u001b[0m\u001b[0;34m.\u001b[0m\u001b[0mAdam\u001b[0m\u001b[0;34m(\u001b[0m\u001b[0mlstm_model\u001b[0m\u001b[0;34m.\u001b[0m\u001b[0mparameters\u001b[0m\u001b[0;34m(\u001b[0m\u001b[0;34m)\u001b[0m\u001b[0;34m,\u001b[0m \u001b[0mlr\u001b[0m\u001b[0;34m=\u001b[0m\u001b[0mLR\u001b[0m\u001b[0;34m)\u001b[0m\u001b[0;34m\u001b[0m\u001b[0;34m\u001b[0m\u001b[0m\n\u001b[0m\u001b[1;32m      7\u001b[0m )\n",
            "\u001b[0;32m<ipython-input-34-e00e53528629>\u001b[0m in \u001b[0;36mfit\u001b[0;34m(model, epochs, train_data_loader, validation_data_loader, optimizer, show_random)\u001b[0m\n\u001b[1;32m     17\u001b[0m             \u001b[0mdata_loader\u001b[0m\u001b[0;34m=\u001b[0m\u001b[0mtrain_data_loader\u001b[0m\u001b[0;34m,\u001b[0m\u001b[0;34m\u001b[0m\u001b[0;34m\u001b[0m\u001b[0m\n\u001b[1;32m     18\u001b[0m             \u001b[0moptimizer\u001b[0m\u001b[0;34m=\u001b[0m\u001b[0moptimizer\u001b[0m\u001b[0;34m,\u001b[0m\u001b[0;34m\u001b[0m\u001b[0;34m\u001b[0m\u001b[0m\n\u001b[0;32m---> 19\u001b[0;31m             \u001b[0mreturn_losses\u001b[0m\u001b[0;34m=\u001b[0m\u001b[0;32mTrue\u001b[0m\u001b[0;34m,\u001b[0m\u001b[0;34m\u001b[0m\u001b[0;34m\u001b[0m\u001b[0m\n\u001b[0m\u001b[1;32m     20\u001b[0m         )\n\u001b[1;32m     21\u001b[0m         \u001b[0mprint\u001b[0m\u001b[0;34m(\u001b[0m\u001b[0;34mf\"Train step loss: {train_metrics['loss']:.4f}\"\u001b[0m\u001b[0;34m)\u001b[0m\u001b[0;34m\u001b[0m\u001b[0;34m\u001b[0m\u001b[0m\n",
            "\u001b[0;32m<ipython-input-32-14c7c5928917>\u001b[0m in \u001b[0;36mtrain_epoch\u001b[0;34m(model, data_loader, optimizer, return_losses)\u001b[0m\n\u001b[1;32m     17\u001b[0m             \u001b[0mloss\u001b[0m \u001b[0;34m=\u001b[0m \u001b[0moutput_dict\u001b[0m\u001b[0;34m[\u001b[0m\u001b[0;34m'loss'\u001b[0m\u001b[0;34m]\u001b[0m\u001b[0;34m\u001b[0m\u001b[0;34m\u001b[0m\u001b[0m\n\u001b[1;32m     18\u001b[0m             \u001b[0;31m# Update weights\u001b[0m\u001b[0;34m\u001b[0m\u001b[0;34m\u001b[0m\u001b[0;34m\u001b[0m\u001b[0m\n\u001b[0;32m---> 19\u001b[0;31m             \u001b[0mloss\u001b[0m\u001b[0;34m.\u001b[0m\u001b[0mbackward\u001b[0m\u001b[0;34m(\u001b[0m\u001b[0;34m)\u001b[0m\u001b[0;34m\u001b[0m\u001b[0;34m\u001b[0m\u001b[0m\n\u001b[0m\u001b[1;32m     20\u001b[0m             \u001b[0moptimizer\u001b[0m\u001b[0;34m.\u001b[0m\u001b[0mstep\u001b[0m\u001b[0;34m(\u001b[0m\u001b[0;34m)\u001b[0m\u001b[0;34m\u001b[0m\u001b[0;34m\u001b[0m\u001b[0m\n\u001b[1;32m     21\u001b[0m             \u001b[0moptimizer\u001b[0m\u001b[0;34m.\u001b[0m\u001b[0mzero_grad\u001b[0m\u001b[0;34m(\u001b[0m\u001b[0;34m)\u001b[0m\u001b[0;34m\u001b[0m\u001b[0;34m\u001b[0m\u001b[0m\n",
            "\u001b[0;32m~/Projects/iad/iad-seminar-transformers/venv/lib/python3.7/site-packages/torch/tensor.py\u001b[0m in \u001b[0;36mbackward\u001b[0;34m(self, gradient, retain_graph, create_graph)\u001b[0m\n\u001b[1;32m    219\u001b[0m                 \u001b[0mretain_graph\u001b[0m\u001b[0;34m=\u001b[0m\u001b[0mretain_graph\u001b[0m\u001b[0;34m,\u001b[0m\u001b[0;34m\u001b[0m\u001b[0;34m\u001b[0m\u001b[0m\n\u001b[1;32m    220\u001b[0m                 create_graph=create_graph)\n\u001b[0;32m--> 221\u001b[0;31m         \u001b[0mtorch\u001b[0m\u001b[0;34m.\u001b[0m\u001b[0mautograd\u001b[0m\u001b[0;34m.\u001b[0m\u001b[0mbackward\u001b[0m\u001b[0;34m(\u001b[0m\u001b[0mself\u001b[0m\u001b[0;34m,\u001b[0m \u001b[0mgradient\u001b[0m\u001b[0;34m,\u001b[0m \u001b[0mretain_graph\u001b[0m\u001b[0;34m,\u001b[0m \u001b[0mcreate_graph\u001b[0m\u001b[0;34m)\u001b[0m\u001b[0;34m\u001b[0m\u001b[0;34m\u001b[0m\u001b[0m\n\u001b[0m\u001b[1;32m    222\u001b[0m \u001b[0;34m\u001b[0m\u001b[0m\n\u001b[1;32m    223\u001b[0m     \u001b[0;32mdef\u001b[0m \u001b[0mregister_hook\u001b[0m\u001b[0;34m(\u001b[0m\u001b[0mself\u001b[0m\u001b[0;34m,\u001b[0m \u001b[0mhook\u001b[0m\u001b[0;34m)\u001b[0m\u001b[0;34m:\u001b[0m\u001b[0;34m\u001b[0m\u001b[0;34m\u001b[0m\u001b[0m\n",
            "\u001b[0;32m~/Projects/iad/iad-seminar-transformers/venv/lib/python3.7/site-packages/torch/autograd/__init__.py\u001b[0m in \u001b[0;36mbackward\u001b[0;34m(tensors, grad_tensors, retain_graph, create_graph, grad_variables)\u001b[0m\n\u001b[1;32m    130\u001b[0m     Variable._execution_engine.run_backward(\n\u001b[1;32m    131\u001b[0m         \u001b[0mtensors\u001b[0m\u001b[0;34m,\u001b[0m \u001b[0mgrad_tensors_\u001b[0m\u001b[0;34m,\u001b[0m \u001b[0mretain_graph\u001b[0m\u001b[0;34m,\u001b[0m \u001b[0mcreate_graph\u001b[0m\u001b[0;34m,\u001b[0m\u001b[0;34m\u001b[0m\u001b[0;34m\u001b[0m\u001b[0m\n\u001b[0;32m--> 132\u001b[0;31m         allow_unreachable=True)  # allow_unreachable flag\n\u001b[0m\u001b[1;32m    133\u001b[0m \u001b[0;34m\u001b[0m\u001b[0m\n\u001b[1;32m    134\u001b[0m \u001b[0;34m\u001b[0m\u001b[0m\n",
            "\u001b[0;31mKeyboardInterrupt\u001b[0m: "
          ]
        }
      ]
    },
    {
      "cell_type": "markdown",
      "metadata": {
        "id": "5QdRxehkFued"
      },
      "source": [
        "#### Теперь Transformer"
      ]
    },
    {
      "cell_type": "code",
      "metadata": {
        "id": "pQrGrNAyFued",
        "outputId": "993b57c0-f9db-469d-c0a7-47364ed12c06"
      },
      "source": [
        "# Сначала encoder\n",
        "encoder = TransformerEncoder(\n",
        "    input_size=128,\n",
        "    num_layers=1,\n",
        "    feedforward_hidden_dim=512,\n",
        "    num_attention_heads=2,\n",
        ")\n",
        "# Теперь decoder\n",
        "decoder = TransformerDecoder(\n",
        "    input_size=encoder.get_output_size(),\n",
        "    num_layers=1,\n",
        "    feedforward_hidden_dim=512,\n",
        "    num_attention_heads=2,\n",
        ")\n",
        "# Ну и объединим это всё в одну модель\n",
        "transformer_model = NMTModel(\n",
        "    vocab=vocab,\n",
        "    embeddings=torch.nn.ModuleDict({\n",
        "        \"source\": torch.nn.Embedding(vocab.get_size(\"source\"), 128),\n",
        "        \"target\": torch.nn.Embedding(vocab.get_size(\"target\"), 128),\n",
        "    }),\n",
        "    encoder=encoder,\n",
        "    decoder=decoder,\n",
        "    device=DEVICE,\n",
        ").to(device=DEVICE)\n",
        "print(f\"Количество параметров: {sum(p.numel() for p in transformer_model.parameters())}\")"
      ],
      "execution_count": null,
      "outputs": [
        {
          "name": "stdout",
          "output_type": "stream",
          "text": [
            "Количество параметров: 2531392\n"
          ]
        }
      ]
    },
    {
      "cell_type": "code",
      "metadata": {
        "id": "UdpYJL1sFuee",
        "outputId": "d22fc041-7ff3-4ab8-aca3-43602d4b38cf"
      },
      "source": [
        "loss_info = fit(\n",
        "    model=transformer_model,\n",
        "    epochs=EPOCHS,\n",
        "    train_data_loader=train_dataloader,\n",
        "    validation_data_loader=validation_dataloader,\n",
        "    optimizer=torch.optim.Adam(transformer_model.parameters(), lr=LR)\n",
        ")"
      ],
      "execution_count": null,
      "outputs": [
        {
          "name": "stdout",
          "output_type": "stream",
          "text": [
            "Train Epoch: 0\n",
            "Loss: 0.6817: 100%|██████████| 334/334 [00:27<00:00, 12.00it/s]\n",
            "Train step loss: 1.1791\n",
            "Validation Epoch: 0\n",
            "Loss: 0.1893: 100%|██████████| 84/84 [00:01<00:00, 42.13it/s]\n",
            "Validation step loss: 0.4489\n",
            "#############\n",
            "RANDOM SAMPLE:\n",
            "Source sample: vous etes vraiment embetants . <end> <pad> <pad> <pad> <pad>\n",
            "Target sample: <start> you re really annoying . <end> <pad> <pad> <pad> <pad>\n",
            "Predict sample: <start> you re really annoying . <end> problems problems problems problems\n",
            "#############\n",
            "Train Epoch: 1\n",
            "Loss: 0.3535:  32%|███▏      | 106/334 [00:09<00:19, 11.44it/s]\n"
          ]
        },
        {
          "ename": "KeyboardInterrupt",
          "evalue": "",
          "output_type": "error",
          "traceback": [
            "\u001b[0;31m---------------------------------------------------------------------------\u001b[0m",
            "\u001b[0;31mKeyboardInterrupt\u001b[0m                         Traceback (most recent call last)",
            "\u001b[0;32m<ipython-input-40-49c09cd8798f>\u001b[0m in \u001b[0;36m<module>\u001b[0;34m\u001b[0m\n\u001b[1;32m      4\u001b[0m     \u001b[0mtrain_data_loader\u001b[0m\u001b[0;34m=\u001b[0m\u001b[0mtrain_dataloader\u001b[0m\u001b[0;34m,\u001b[0m\u001b[0;34m\u001b[0m\u001b[0;34m\u001b[0m\u001b[0m\n\u001b[1;32m      5\u001b[0m     \u001b[0mvalidation_data_loader\u001b[0m\u001b[0;34m=\u001b[0m\u001b[0mvalidation_dataloader\u001b[0m\u001b[0;34m,\u001b[0m\u001b[0;34m\u001b[0m\u001b[0;34m\u001b[0m\u001b[0m\n\u001b[0;32m----> 6\u001b[0;31m     \u001b[0moptimizer\u001b[0m\u001b[0;34m=\u001b[0m\u001b[0mtorch\u001b[0m\u001b[0;34m.\u001b[0m\u001b[0moptim\u001b[0m\u001b[0;34m.\u001b[0m\u001b[0mAdam\u001b[0m\u001b[0;34m(\u001b[0m\u001b[0mtransformer_model\u001b[0m\u001b[0;34m.\u001b[0m\u001b[0mparameters\u001b[0m\u001b[0;34m(\u001b[0m\u001b[0;34m)\u001b[0m\u001b[0;34m,\u001b[0m \u001b[0mlr\u001b[0m\u001b[0;34m=\u001b[0m\u001b[0mLR\u001b[0m\u001b[0;34m,\u001b[0m \u001b[0mweight_decay\u001b[0m\u001b[0;34m=\u001b[0m\u001b[0;36m1e-4\u001b[0m\u001b[0;34m)\u001b[0m\u001b[0;34m\u001b[0m\u001b[0;34m\u001b[0m\u001b[0m\n\u001b[0m\u001b[1;32m      7\u001b[0m )\n",
            "\u001b[0;32m<ipython-input-34-e00e53528629>\u001b[0m in \u001b[0;36mfit\u001b[0;34m(model, epochs, train_data_loader, validation_data_loader, optimizer, show_random)\u001b[0m\n\u001b[1;32m     17\u001b[0m             \u001b[0mdata_loader\u001b[0m\u001b[0;34m=\u001b[0m\u001b[0mtrain_data_loader\u001b[0m\u001b[0;34m,\u001b[0m\u001b[0;34m\u001b[0m\u001b[0;34m\u001b[0m\u001b[0m\n\u001b[1;32m     18\u001b[0m             \u001b[0moptimizer\u001b[0m\u001b[0;34m=\u001b[0m\u001b[0moptimizer\u001b[0m\u001b[0;34m,\u001b[0m\u001b[0;34m\u001b[0m\u001b[0;34m\u001b[0m\u001b[0m\n\u001b[0;32m---> 19\u001b[0;31m             \u001b[0mreturn_losses\u001b[0m\u001b[0;34m=\u001b[0m\u001b[0;32mTrue\u001b[0m\u001b[0;34m,\u001b[0m\u001b[0;34m\u001b[0m\u001b[0;34m\u001b[0m\u001b[0m\n\u001b[0m\u001b[1;32m     20\u001b[0m         )\n\u001b[1;32m     21\u001b[0m         \u001b[0mprint\u001b[0m\u001b[0;34m(\u001b[0m\u001b[0;34mf\"Train step loss: {train_metrics['loss']:.4f}\"\u001b[0m\u001b[0;34m)\u001b[0m\u001b[0;34m\u001b[0m\u001b[0;34m\u001b[0m\u001b[0m\n",
            "\u001b[0;32m<ipython-input-32-14c7c5928917>\u001b[0m in \u001b[0;36mtrain_epoch\u001b[0;34m(model, data_loader, optimizer, return_losses)\u001b[0m\n\u001b[1;32m     19\u001b[0m             \u001b[0mloss\u001b[0m\u001b[0;34m.\u001b[0m\u001b[0mbackward\u001b[0m\u001b[0;34m(\u001b[0m\u001b[0;34m)\u001b[0m\u001b[0;34m\u001b[0m\u001b[0;34m\u001b[0m\u001b[0m\n\u001b[1;32m     20\u001b[0m             \u001b[0moptimizer\u001b[0m\u001b[0;34m.\u001b[0m\u001b[0mstep\u001b[0m\u001b[0;34m(\u001b[0m\u001b[0;34m)\u001b[0m\u001b[0;34m\u001b[0m\u001b[0;34m\u001b[0m\u001b[0m\n\u001b[0;32m---> 21\u001b[0;31m             \u001b[0moptimizer\u001b[0m\u001b[0;34m.\u001b[0m\u001b[0mzero_grad\u001b[0m\u001b[0;34m(\u001b[0m\u001b[0;34m)\u001b[0m\u001b[0;34m\u001b[0m\u001b[0;34m\u001b[0m\u001b[0m\n\u001b[0m\u001b[1;32m     22\u001b[0m             \u001b[0;31m# Update descirption for tqdm\u001b[0m\u001b[0;34m\u001b[0m\u001b[0;34m\u001b[0m\u001b[0;34m\u001b[0m\u001b[0m\n\u001b[1;32m     23\u001b[0m             \u001b[0mprbar\u001b[0m\u001b[0;34m.\u001b[0m\u001b[0mset_description\u001b[0m\u001b[0;34m(\u001b[0m\u001b[0;34mf\"Loss: {loss.item():.4f}\"\u001b[0m\u001b[0;34m)\u001b[0m\u001b[0;34m\u001b[0m\u001b[0;34m\u001b[0m\u001b[0m\n",
            "\u001b[0;32m~/Projects/iad/iad-seminar-transformers/venv/lib/python3.7/site-packages/torch/optim/optimizer.py\u001b[0m in \u001b[0;36mzero_grad\u001b[0;34m(self, set_to_none)\u001b[0m\n\u001b[1;32m    182\u001b[0m         \u001b[0;32mfor\u001b[0m \u001b[0mgroup\u001b[0m \u001b[0;32min\u001b[0m \u001b[0mself\u001b[0m\u001b[0;34m.\u001b[0m\u001b[0mparam_groups\u001b[0m\u001b[0;34m:\u001b[0m\u001b[0;34m\u001b[0m\u001b[0;34m\u001b[0m\u001b[0m\n\u001b[1;32m    183\u001b[0m             \u001b[0;32mfor\u001b[0m \u001b[0mp\u001b[0m \u001b[0;32min\u001b[0m \u001b[0mgroup\u001b[0m\u001b[0;34m[\u001b[0m\u001b[0;34m'params'\u001b[0m\u001b[0;34m]\u001b[0m\u001b[0;34m:\u001b[0m\u001b[0;34m\u001b[0m\u001b[0;34m\u001b[0m\u001b[0m\n\u001b[0;32m--> 184\u001b[0;31m                 \u001b[0;32mif\u001b[0m \u001b[0mp\u001b[0m\u001b[0;34m.\u001b[0m\u001b[0mgrad\u001b[0m \u001b[0;32mis\u001b[0m \u001b[0;32mnot\u001b[0m \u001b[0;32mNone\u001b[0m\u001b[0;34m:\u001b[0m\u001b[0;34m\u001b[0m\u001b[0;34m\u001b[0m\u001b[0m\n\u001b[0m\u001b[1;32m    185\u001b[0m                     \u001b[0;32mif\u001b[0m \u001b[0mset_to_none\u001b[0m\u001b[0;34m:\u001b[0m\u001b[0;34m\u001b[0m\u001b[0;34m\u001b[0m\u001b[0m\n\u001b[1;32m    186\u001b[0m                         \u001b[0mp\u001b[0m\u001b[0;34m.\u001b[0m\u001b[0mgrad\u001b[0m \u001b[0;34m=\u001b[0m \u001b[0;32mNone\u001b[0m\u001b[0;34m\u001b[0m\u001b[0;34m\u001b[0m\u001b[0m\n",
            "\u001b[0;32m~/Projects/iad/iad-seminar-transformers/venv/lib/python3.7/site-packages/torch/tensor.py\u001b[0m in \u001b[0;36mgrad\u001b[0;34m(self)\u001b[0m\n\u001b[1;32m    941\u001b[0m         \u001b[0mrelevant_args\u001b[0m \u001b[0;34m=\u001b[0m \u001b[0;34m(\u001b[0m\u001b[0mself\u001b[0m\u001b[0;34m,\u001b[0m\u001b[0;34m)\u001b[0m\u001b[0;34m\u001b[0m\u001b[0;34m\u001b[0m\u001b[0m\n\u001b[1;32m    942\u001b[0m         \u001b[0;32mfrom\u001b[0m \u001b[0mtorch\u001b[0m\u001b[0;34m.\u001b[0m\u001b[0moverrides\u001b[0m \u001b[0;32mimport\u001b[0m \u001b[0mhas_torch_function\u001b[0m\u001b[0;34m,\u001b[0m \u001b[0mhandle_torch_function\u001b[0m\u001b[0;34m\u001b[0m\u001b[0;34m\u001b[0m\u001b[0m\n\u001b[0;32m--> 943\u001b[0;31m         \u001b[0;32mif\u001b[0m \u001b[0mtype\u001b[0m\u001b[0;34m(\u001b[0m\u001b[0mself\u001b[0m\u001b[0;34m)\u001b[0m \u001b[0;32mis\u001b[0m \u001b[0;32mnot\u001b[0m \u001b[0mTensor\u001b[0m \u001b[0;32mand\u001b[0m \u001b[0mhas_torch_function\u001b[0m\u001b[0;34m(\u001b[0m\u001b[0mrelevant_args\u001b[0m\u001b[0;34m)\u001b[0m\u001b[0;34m:\u001b[0m\u001b[0;34m\u001b[0m\u001b[0;34m\u001b[0m\u001b[0m\n\u001b[0m\u001b[1;32m    944\u001b[0m             \u001b[0;31m# TODO mypy doesn't support @property, see: https://github.com/python/mypy/issues/6185\u001b[0m\u001b[0;34m\u001b[0m\u001b[0;34m\u001b[0m\u001b[0;34m\u001b[0m\u001b[0m\n\u001b[1;32m    945\u001b[0m             \u001b[0;32mreturn\u001b[0m \u001b[0mhandle_torch_function\u001b[0m\u001b[0;34m(\u001b[0m\u001b[0mTensor\u001b[0m\u001b[0;34m.\u001b[0m\u001b[0mgrad\u001b[0m\u001b[0;34m.\u001b[0m\u001b[0m__get__\u001b[0m\u001b[0;34m,\u001b[0m \u001b[0mrelevant_args\u001b[0m\u001b[0;34m,\u001b[0m \u001b[0mself\u001b[0m\u001b[0;34m)\u001b[0m  \u001b[0;31m# type: ignore[attr-defined]\u001b[0m\u001b[0;34m\u001b[0m\u001b[0;34m\u001b[0m\u001b[0m\n",
            "\u001b[0;32m~/Projects/iad/iad-seminar-transformers/venv/lib/python3.7/site-packages/torch/overrides.py\u001b[0m in \u001b[0;36mhas_torch_function\u001b[0;34m(relevant_args)\u001b[0m\n\u001b[1;32m   1085\u001b[0m         \u001b[0mgetattr\u001b[0m\u001b[0;34m(\u001b[0m\u001b[0ma\u001b[0m\u001b[0;34m,\u001b[0m \u001b[0;34m'__torch_function__'\u001b[0m\u001b[0;34m,\u001b[0m \u001b[0m_disabled_torch_function_impl\u001b[0m\u001b[0;34m)\u001b[0m\u001b[0;34m\u001b[0m\u001b[0;34m\u001b[0m\u001b[0m\n\u001b[1;32m   1086\u001b[0m         \u001b[0;32mis\u001b[0m \u001b[0;32mnot\u001b[0m \u001b[0m_disabled_torch_function_impl\u001b[0m\u001b[0;34m\u001b[0m\u001b[0;34m\u001b[0m\u001b[0m\n\u001b[0;32m-> 1087\u001b[0;31m         \u001b[0;32mfor\u001b[0m \u001b[0ma\u001b[0m \u001b[0;32min\u001b[0m \u001b[0mrelevant_args\u001b[0m\u001b[0;34m\u001b[0m\u001b[0;34m\u001b[0m\u001b[0m\n\u001b[0m\u001b[1;32m   1088\u001b[0m     )\n\u001b[1;32m   1089\u001b[0m \u001b[0;34m\u001b[0m\u001b[0m\n",
            "\u001b[0;32m~/Projects/iad/iad-seminar-transformers/venv/lib/python3.7/site-packages/torch/overrides.py\u001b[0m in \u001b[0;36m<genexpr>\u001b[0;34m(.0)\u001b[0m\n\u001b[1;32m   1082\u001b[0m     \"\"\"\n\u001b[1;32m   1083\u001b[0m     return _is_torch_function_enabled() and any(\n\u001b[0;32m-> 1084\u001b[0;31m         \u001b[0mtype\u001b[0m\u001b[0;34m(\u001b[0m\u001b[0ma\u001b[0m\u001b[0;34m)\u001b[0m \u001b[0;32mis\u001b[0m \u001b[0;32mnot\u001b[0m \u001b[0mtorch\u001b[0m\u001b[0;34m.\u001b[0m\u001b[0mTensor\u001b[0m \u001b[0;32mand\u001b[0m\u001b[0;34m\u001b[0m\u001b[0;34m\u001b[0m\u001b[0m\n\u001b[0m\u001b[1;32m   1085\u001b[0m         \u001b[0mgetattr\u001b[0m\u001b[0;34m(\u001b[0m\u001b[0ma\u001b[0m\u001b[0;34m,\u001b[0m \u001b[0;34m'__torch_function__'\u001b[0m\u001b[0;34m,\u001b[0m \u001b[0m_disabled_torch_function_impl\u001b[0m\u001b[0;34m)\u001b[0m\u001b[0;34m\u001b[0m\u001b[0;34m\u001b[0m\u001b[0m\n\u001b[1;32m   1086\u001b[0m         \u001b[0;32mis\u001b[0m \u001b[0;32mnot\u001b[0m \u001b[0m_disabled_torch_function_impl\u001b[0m\u001b[0;34m\u001b[0m\u001b[0;34m\u001b[0m\u001b[0m\n",
            "\u001b[0;31mKeyboardInterrupt\u001b[0m: "
          ]
        }
      ]
    },
    {
      "cell_type": "markdown",
      "metadata": {
        "id": "4ugU5ChfFuee"
      },
      "source": [
        "## BERT\n",
        "BERT - это просто несколько stacked Transformer Encoder слоёв из общей модели Transformer + задача Masked Language Modelling.\n",
        "\n",
        "**Зачем нужен вообще Masked Language Modelling?**\n",
        "\n",
        "Оригинально BERT претрейнили на задачу Language Modelling, ну и как можно догадаться язык у нас строится последовательно слово за слово, но обычный Transformer так не умеет, так как это bidirectional модель. Такая архитектура не подходит для Language Modelling в общей постановке, так как каждое слово будет косвенно видеть само себя в контекста. Тогда создатели статьи решили применить задачу Cloze или же Masked Language Modelling.\n",
        "\n",
        "Особенность Masked Language Modelling заключается в том, что мы случайном образом ставим вместо слова **[MASK]** и пытаемся по контексту предсказать тот токен, который там был изначально."
      ]
    },
    {
      "cell_type": "markdown",
      "metadata": {
        "id": "P2zWyEs9Fuee"
      },
      "source": [
        "## BPE\n",
        "Кроме того, в BERT активно используется такая вещь как Byte Pair Encoding. С помощью него решают проблему очень большого вокабуляра для языка, BPE позволяет регулировать его размер. Грубо говоря BPE сегментация оставляет самые частотные токены в датасете, а редкие разделяет на несколько токенов. Это, как можно догадаться, решает проблему дисбаланаса классов, когда наша модель почти не будет предсказывать редкие слова. Притом BPE потенциально позволяет модели научиться распознавать морфологию языка, композицию слов и даже транслитерацию.\n",
        "* Вот ссылочка на отличную статью на тему BPE: https://arxiv.org/abs/1910.13267\n",
        "* Для BPE я люблю использовать SentencePiece от Google.\n",
        "\n",
        "Тут ещё стоит добавить, что некоторые из вас, читая статью от Google про BERT, могли заметить такую вещь как WordPiece, которую использовали исследователи для BPE токенизации. WordPiece отличается от SentencePiece тем, что строит вокабуляр не частотно как последний, а через максимизацию правдоподбия. Теоретически это должно быть эффективно, однако ребята, написавшие RoBERTa, проверили это и пришли к выводу, что частотного подхода достаточно."
      ]
    },
    {
      "cell_type": "markdown",
      "metadata": {
        "id": "C7Gd1i5bFuee"
      },
      "source": [
        "## GPT\n",
        "![SegmentLocal](media/gpt-3-example.gif \"GPT-3\")"
      ]
    }
  ]
}