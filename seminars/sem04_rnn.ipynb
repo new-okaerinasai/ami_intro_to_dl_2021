{
 "cells": [
  {
   "cell_type": "code",
   "execution_count": 1,
   "id": "28620b19",
   "metadata": {},
   "outputs": [],
   "source": [
    "import pickle\n",
    "\n",
    "with open('elvish-names.pickle', \"rb\") as file:\n",
    "    names = pickle.load(file)"
   ]
  },
  {
   "cell_type": "code",
   "execution_count": 2,
   "id": "bc1f9e87",
   "metadata": {},
   "outputs": [],
   "source": [
    "import torch\n",
    "import matplotlib.pyplot as plt\n",
    "from tqdm.notebook import tqdm\n",
    "from IPython.display import clear_output\n",
    "from torch.utils.data import Dataset, DataLoader\n",
    "from torchtext.vocab import Vocab\n",
    "from collections import Counter\n",
    "\n",
    "class NamesDataset(Dataset):\n",
    "    def __init__(self, names):\n",
    "        self.names = names\n",
    "        self.specials = ['<pad>', '<bos>', '<eos>']\n",
    "        counter = Counter(''.join(names))\n",
    "        self.vocab = Vocab(counter, specials=self.specials)\n",
    "        self.pad_index = self.vocab['<pad>']\n",
    "        self.bos_index = self.vocab['<bos>']\n",
    "        self.eos_index = self.vocab['<eos>']\n",
    "        self.max_len = max(len(name) for name in names) + 2\n",
    "\n",
    "    def __len__(self):\n",
    "        return len(self.names)\n",
    "\n",
    "    def str_to_idx(self, chars):\n",
    "        return [self.vocab[char] for char in chars]\n",
    "    \n",
    "    def idx_to_str(self, idx):\n",
    "        return [self.vocab.itos[index] for index in idx]\n",
    "    \n",
    "    def encode(self, chars):\n",
    "        chars = ['<bos>'] + list(chars) + ['<eos>']\n",
    "        return self.str_to_idx(chars)\n",
    "        \n",
    "    def decode(self, idx):\n",
    "        chars = self.idx_to_str(idx)\n",
    "        return ''.join(char for char in chars if char not in self.specials)\n",
    "\n",
    "    def __getitem__(self, item):\n",
    "        encoded = self.encode(self.names[item])\n",
    "        padded = torch.full((self.max_len, ), self.pad_index, dtype=torch.int64)\n",
    "        padded[:len(encoded)] = torch.tensor(encoded)\n",
    "        return padded, len(encoded)"
   ]
  },
  {
   "cell_type": "code",
   "execution_count": 10,
   "id": "dece7f94",
   "metadata": {},
   "outputs": [],
   "source": [
    "from torch import nn\n",
    "from torch.nn.utils.rnn import pack_padded_sequence, pad_packed_sequence\n",
    "from torch.distributions.categorical import Categorical\n",
    "\n",
    "class Generator(nn.Module):\n",
    "    def __init__(self, dataset, embed_dim=32, hidden_dim=32, max_len=None):\n",
    "        super().__init__()\n",
    "        self.embedding = nn.Embedding(num_embeddings=len(dataset.vocab), embedding_dim=embed_dim)\n",
    "        self.rnn = nn.RNN(input_size=embed_dim, hidden_size=hidden_dim, batch_first=True)\n",
    "        self.linear = nn.Linear(hidden_dim, len(dataset.vocab))\n",
    "        self.dataset = dataset\n",
    "        self.max_len = dataset.max_len if max_len is None else max_len\n",
    "    \n",
    "    def forward(self, tokens, lengths):\n",
    "        embeds = self.embedding(tokens)\n",
    "        packed_embeds = pack_padded_sequence(embeds, lengths, batch_first=True, enforce_sorted=False)\n",
    "        output, hidden = self.rnn(packed_embeds)\n",
    "        output, lengths = pad_packed_sequence(output, batch_first=True)\n",
    "        logits = self.linear(output)\n",
    "        return logits\n",
    "    \n",
    "    @torch.no_grad()\n",
    "    def inference(self, prefix=''):\n",
    "        tokens = self.dataset.encode(prefix)[:-1]\n",
    "        tokens = torch.tensor(tokens).unsqueeze(0)\n",
    "        \n",
    "        embeds = self.embedding(tokens)\n",
    "        output, hidden = self.rnn(embeds)\n",
    "        logits = self.linear(output)\n",
    "        new_tokens = Categorical(logits=logits[:, -1:]).sample()\n",
    "        tokens = torch.cat([tokens, new_tokens], dim=1)\n",
    "        \n",
    "        while tokens.shape[1] < self.max_len:\n",
    "            if new_tokens.item() == self.dataset.eos_index:\n",
    "                break\n",
    "\n",
    "            embeds = self.embedding(new_tokens)\n",
    "            output, hidden = self.rnn(embeds, hidden)\n",
    "            logits = self.linear(output)\n",
    "            new_tokens = Categorical(logits=logits[:, -1:]).sample()\n",
    "            tokens = torch.cat([tokens, new_tokens], dim=1)\n",
    "        \n",
    "        return self.dataset.decode(tokens.squeeze())"
   ]
  },
  {
   "cell_type": "code",
   "execution_count": 11,
   "id": "c3b39d23",
   "metadata": {},
   "outputs": [],
   "source": [
    "dataset = NamesDataset(names)\n",
    "dataloader = DataLoader(dataset, batch_size=32, shuffle=True)"
   ]
  },
  {
   "cell_type": "code",
   "execution_count": 40,
   "id": "a052b605",
   "metadata": {},
   "outputs": [],
   "source": [
    "model = Generator(dataset, embed_dim=32, hidden_dim=32)\n",
    "optimizer = torch.optim.Adam(model.parameters(), lr=1e-3)\n",
    "criterion = nn.CrossEntropyLoss(ignore_index=dataset.pad_index)"
   ]
  },
  {
   "cell_type": "code",
   "execution_count": 41,
   "id": "34ab12d5",
   "metadata": {},
   "outputs": [
    {
     "data": {
      "text/plain": [
       "['shqrwwqg',\n",
       " 'jxgolwrzogihne',\n",
       " 'oo',\n",
       " 'kjsnyoonbzlyn',\n",
       " 'jagk',\n",
       " 'oebh',\n",
       " 'cxdngaajvhoiwx',\n",
       " 'ywhr',\n",
       " 'ogkvfqnlaaowo',\n",
       " 'lurlfgixjqosit']"
      ]
     },
     "execution_count": 41,
     "metadata": {},
     "output_type": "execute_result"
    }
   ],
   "source": [
    "[model.inference('') for _ in range(10)]"
   ]
  },
  {
   "cell_type": "code",
   "execution_count": 34,
   "id": "2a52e291",
   "metadata": {},
   "outputs": [],
   "source": [
    "def plot_losses(losses):\n",
    "    clear_output()\n",
    "    plt.plot(range(1, len(losses) + 1), losses)\n",
    "    plt.xlabel('epoch')\n",
    "    plt.ylabel('loss')\n",
    "    plt.grid()\n",
    "    plt.show()"
   ]
  },
  {
   "cell_type": "code",
   "execution_count": 42,
   "id": "a7fa8eb2",
   "metadata": {},
   "outputs": [
    {
     "data": {
      "image/png": "[encoded data removed]",
      "text/plain": [
       "<Figure size 432x288 with 1 Axes>"
      ]
     },
     "metadata": {
      "needs_background": "light"
     },
     "output_type": "display_data"
    }
   ],
   "source": [
    "losses = []\n",
    "num_epochs = 100\n",
    "\n",
    "for epoch in range(1, num_epochs + 1):\n",
    "    running_loss = 0.0\n",
    "    for tokens, lengths in dataloader:\n",
    "        tokens = tokens[:, :lengths.max()]\n",
    "        optimizer.zero_grad()\n",
    "        logits = model(tokens[:, :-1], lengths - 1)\n",
    "        loss = criterion(logits.transpose(1, 2), tokens[:, 1:])\n",
    "        loss.backward()\n",
    "        optimizer.step()\n",
    "        \n",
    "        running_loss += loss.item() * tokens.shape[0]\n",
    "    \n",
    "    losses += [running_loss / len(dataset)]\n",
    "    \n",
    "    if epoch % 10 == 0:\n",
    "        plot_losses(losses)"
   ]
  },
  {
   "cell_type": "code",
   "execution_count": 53,
   "id": "1e73a14c",
   "metadata": {},
   "outputs": [
    {
     "data": {
      "text/plain": [
       "['uuighantha',\n",
       " 'hylorter',\n",
       " 'nuis',\n",
       " 'lleanniw',\n",
       " 'diwelnarin',\n",
       " 'tharot',\n",
       " 'alyundel',\n",
       " 'vyk',\n",
       " 'aulym',\n",
       " 'onsisthel']"
      ]
     },
     "execution_count": 53,
     "metadata": {},
     "output_type": "execute_result"
    }
   ],
   "source": [
    "[model.inference('') for _ in range(10)]"
   ]
  },
  {
   "cell_type": "code",
   "execution_count": null,
   "id": "24875cac",
   "metadata": {},
   "outputs": [],
   "source": []
  }
 ],
 "metadata": {
  "kernelspec": {
   "display_name": "Python 3 (ipykernel)",
   "language": "python",
   "name": "python3"
  },
  "language_info": {
   "codemirror_mode": {
    "name": "ipython",
    "version": 3
   },
   "file_extension": ".py",
   "mimetype": "text/x-python",
   "name": "python",
   "nbconvert_exporter": "python",
   "pygments_lexer": "ipython3",
   "version": "3.8.11"
  }
 },
 "nbformat": 4,
 "nbformat_minor": 5
}
